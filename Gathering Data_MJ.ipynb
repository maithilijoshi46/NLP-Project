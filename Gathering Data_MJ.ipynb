{
 "cells": [
  {
   "cell_type": "markdown",
   "metadata": {},
   "source": [
    "Problem Statement: \n",
    "\n",
    "The two subreddits I picked are **r/theonion** and **r/nottheonion**. \n",
    "Will my model be able to predict if a comment came from the onion or a real news source? \n",
    "\n",
    "\n",
    "I will be exploring a few different models to assess the accuracy.\n",
    "I will create a Bayes classifier, Logistic Regression, and KNN (if there is enough time). \n",
    "Success will be evaluated by: \n",
    "\n",
    "\n",
    "\n",
    "\n",
    "\n",
    "- [Import data](#import)\n",
    "- [Bag of words and visualizations](#vis)"
   ]
  },
  {
   "cell_type": "markdown",
   "metadata": {},
   "source": [
    "<a id='import'></a>\n",
    "# Import data"
   ]
  },
  {
   "cell_type": "code",
   "execution_count": 31,
   "metadata": {},
   "outputs": [],
   "source": [
    "import requests\n",
    "import json\n",
    "import time\n",
    "import csv\n",
    "import pandas as pd\n",
    "import sklearn\n",
    "import numpy as np\n",
    "from sklearn.pipeline import Pipeline,make_pipeline\n",
    "from sklearn.model_selection import cross_val_score, train_test_split\n",
    "from sklearn.feature_extraction.text import CountVectorizer, TfidfVectorizer,HashingVectorizer\n",
    "from sklearn import linear_model\n",
    "from sklearn.model_selection import GridSearchCV\n",
    "from sklearn.metrics import confusion_matrix\n",
    "import seaborn as sns\n",
    "import matplotlib.pyplot as plt\n",
    "\n",
    "%matplotlib inline"
   ]
  },
  {
   "cell_type": "markdown",
   "metadata": {},
   "source": [
    "# Scraping\n",
    "\n",
    "I would have included the text of each title, but since all of the posts on both subreddits are just links to either Onion articles or real articles, there is no text accompanying these reddit posts.\n",
    "\n",
    "\n",
    "Huge s/o to Remy Shea for sharing this code with me while mine refused to work past a certain number of calls. Thank you very much. "
   ]
  },
  {
   "cell_type": "code",
   "execution_count": 2,
   "metadata": {},
   "outputs": [],
   "source": [
    "def subreddit_scrape(subreddit_slug,num_hits=40):\n",
    "    # Define a containing variable for posts and post names to aggregate into\n",
    "    posts = []\n",
    "    post_titles=[]\n",
    "    after = None\n",
    "    url = f'https://www.reddit.com/r/{subreddit_slug}.json'\n",
    "    print(f'Collecting data from {url}')\n",
    "    print('')\n",
    "\n",
    "    # For loop to reach 1000 posts, since each request returns only 25 posts\n",
    "    for i in range(num_hits):\n",
    "        if i*100/num_hits%5 == 0:\n",
    "            print(f'Progress: {round(i/num_hits * 100,1)}%') # Track progress\n",
    "\n",
    "        # Initial loop does not have an 'after'\n",
    "        if after == None:\n",
    "            params={}\n",
    "        else:\n",
    "            params = {'after':after}\n",
    "\n",
    "        # Hit the subreddit API, append the relevant data to containers\n",
    "        res = requests.get(url,params=params,headers={'user-agent': 'Maithili'})\n",
    "        if res.status_code==200:\n",
    "            the_json = res.json()\n",
    "            after = the_json['data']['after']\n",
    "            if after == None:\n",
    "                print(f\"Done {i}\")\n",
    "                break\n",
    "            else:\n",
    "                posts.extend(the_json['data']['children'])\n",
    "                post_titles.extend([post['data']['title'] for post in the_json['data']['children']])\n",
    "        else:\n",
    "            print(res.status_code)\n",
    "            break\n",
    "        # Wait a second, to not ping server too frequently\n",
    "        time.sleep(1)\n",
    "    \n",
    "    # Report findings, return post list\n",
    "    print('')\n",
    "    print(f'Finished colleting data.')\n",
    "    print(f'Of {len(post_titles)} titles, {len(set(post_titles))} were unique')\n",
    "    return posts"
   ]
  },
  {
   "cell_type": "code",
   "execution_count": 3,
   "metadata": {},
   "outputs": [
    {
     "name": "stdout",
     "output_type": "stream",
     "text": [
      "Collecting data from https://www.reddit.com/r/TheOnion.json\n",
      "\n",
      "Progress: 0.0%\n",
      "Progress: 5.0%\n",
      "Progress: 10.0%\n",
      "Progress: 15.0%\n",
      "Progress: 20.0%\n",
      "Progress: 25.0%\n",
      "Progress: 30.0%\n",
      "Progress: 35.0%\n",
      "Progress: 40.0%\n",
      "Progress: 45.0%\n",
      "Progress: 50.0%\n",
      "Progress: 55.0%\n",
      "Progress: 60.0%\n",
      "Progress: 65.0%\n",
      "Progress: 70.0%\n",
      "Progress: 75.0%\n",
      "Progress: 80.0%\n",
      "Progress: 85.0%\n",
      "Progress: 90.0%\n",
      "Progress: 95.0%\n",
      "Done 38\n",
      "\n",
      "Finished colleting data.\n",
      "Of 950 titles, 927 were unique\n"
     ]
    }
   ],
   "source": [
    "the_onion = subreddit_scrape('TheOnion',num_hits=40)"
   ]
  },
  {
   "cell_type": "code",
   "execution_count": 4,
   "metadata": {
    "scrolled": true
   },
   "outputs": [
    {
     "name": "stdout",
     "output_type": "stream",
     "text": [
      "Collecting data from https://www.reddit.com/r/nottheonion.json\n",
      "\n",
      "Progress: 0.0%\n",
      "Progress: 5.0%\n",
      "Progress: 10.0%\n",
      "Progress: 15.0%\n",
      "Progress: 20.0%\n",
      "Progress: 25.0%\n",
      "Progress: 30.0%\n",
      "Progress: 35.0%\n",
      "Progress: 40.0%\n",
      "Done 17\n",
      "\n",
      "Finished colleting data.\n",
      "Of 425 titles, 406 were unique\n"
     ]
    }
   ],
   "source": [
    "not_the_onion = subreddit_scrape('nottheonion',num_hits=40)"
   ]
  },
  {
   "cell_type": "markdown",
   "metadata": {},
   "source": [
    "I'm going to create a data frame and CSV so I don't lose all the data I looked at today. For the second day that I gather more posts, I'm going to create a new dataframe and concatenate it to my first dataframe.  "
   ]
  },
  {
   "cell_type": "code",
   "execution_count": 5,
   "metadata": {},
   "outputs": [],
   "source": [
    "#not the onion\n",
    "titles = [post['data']['title'] for post in not_the_onion]\n",
    "subreddit = [post['data']['subreddit'] for post in not_the_onion]\n",
    "\n",
    "\n",
    "#the onion\n",
    "titles_onion = [post['data']['title'] for post in the_onion]\n",
    "subreddit_onion = [post['data']['subreddit'] for post in the_onion]"
   ]
  },
  {
   "cell_type": "code",
   "execution_count": 6,
   "metadata": {},
   "outputs": [],
   "source": [
    "#not the onion\n",
    "Titles_not = pd.DataFrame(titles, columns = ['Titles'])\n",
    "Subreddit_not = pd.DataFrame(subreddit, columns = ['Subreddit'])\n",
    "\n",
    "#the onion\n",
    "Titles_onion = pd.DataFrame(titles_onion, columns = ['Titles'])\n",
    "Subreddit_onion = pd.DataFrame(subreddit_onion, columns = ['Subreddit'])"
   ]
  },
  {
   "cell_type": "code",
   "execution_count": 7,
   "metadata": {},
   "outputs": [],
   "source": [
    "Not = pd.concat([Titles_not, Subreddit_not], axis = 1)"
   ]
  },
  {
   "cell_type": "code",
   "execution_count": 8,
   "metadata": {
    "scrolled": true
   },
   "outputs": [
    {
     "data": {
      "text/plain": [
       "'Man accidentally drowns while mowing his lawn'"
      ]
     },
     "execution_count": 8,
     "metadata": {},
     "output_type": "execute_result"
    }
   ],
   "source": [
    "Not['Titles'][7]"
   ]
  },
  {
   "cell_type": "markdown",
   "metadata": {},
   "source": [
    "<a id='vis'></a>\n",
    "# Bag of words and visualizations"
   ]
  },
  {
   "cell_type": "code",
   "execution_count": 9,
   "metadata": {},
   "outputs": [],
   "source": [
    "#bag of words for not the onion\n",
    "train_corpus_no = Not['Titles']\n",
    "test_corpus_no = Not['Subreddit']\n",
    "\n",
    "# Instantiate a CountVectorizer\n",
    "cvec_no = CountVectorizer(stop_words='english', ngram_range = (2,2))\n",
    "\n",
    "# Fit the vectorizer on our corpus\n",
    "cvec_no.fit(train_corpus_no)\n",
    "#Set X_train\n",
    "X_train_no = cvec_no.transform(train_corpus_no)\n",
    "X_test_no = test_corpus_no\n",
    "\n",
    "#CountVectorizer(ngram_range = (2,2)).fit(train_corpus).get_feature_names()\n",
    "\n",
    "#Dataframe of bag of words at ngrams 2,2\n",
    "X_train_cvec_no =pd.DataFrame(X_train_no.todense(), columns=cvec_no.get_feature_names())"
   ]
  },
  {
   "cell_type": "code",
   "execution_count": 38,
   "metadata": {
    "scrolled": true
   },
   "outputs": [],
   "source": [
    "no_words = X_train_cvec_no.sum(axis = 0)\n",
    "word_list =no_words.sort_values(ascending = False).head(30)\n",
    "#print(word_list)"
   ]
  },
  {
   "cell_type": "code",
   "execution_count": 21,
   "metadata": {},
   "outputs": [],
   "source": [
    "word_count_notonion = pd.DataFrame(word_list).reset_index().rename(columns = {\"index\": 'word', 0: 'count'})"
   ]
  },
  {
   "cell_type": "code",
   "execution_count": 23,
   "metadata": {},
   "outputs": [
    {
     "data": {
      "text/html": [
       "<div>\n",
       "<style scoped>\n",
       "    .dataframe tbody tr th:only-of-type {\n",
       "        vertical-align: middle;\n",
       "    }\n",
       "\n",
       "    .dataframe tbody tr th {\n",
       "        vertical-align: top;\n",
       "    }\n",
       "\n",
       "    .dataframe thead th {\n",
       "        text-align: right;\n",
       "    }\n",
       "</style>\n",
       "<table border=\"1\" class=\"dataframe\">\n",
       "  <thead>\n",
       "    <tr style=\"text-align: right;\">\n",
       "      <th></th>\n",
       "      <th>word</th>\n",
       "      <th>count</th>\n",
       "    </tr>\n",
       "  </thead>\n",
       "  <tbody>\n",
       "    <tr>\n",
       "      <th>0</th>\n",
       "      <td>year old</td>\n",
       "      <td>11</td>\n",
       "    </tr>\n",
       "    <tr>\n",
       "      <th>1</th>\n",
       "      <td>police say</td>\n",
       "      <td>5</td>\n",
       "    </tr>\n",
       "    <tr>\n",
       "      <th>2</th>\n",
       "      <td>harry potter</td>\n",
       "      <td>4</td>\n",
       "    </tr>\n",
       "    <tr>\n",
       "      <th>3</th>\n",
       "      <td>pet fish</td>\n",
       "      <td>4</td>\n",
       "    </tr>\n",
       "    <tr>\n",
       "      <th>4</th>\n",
       "      <td>donald trump</td>\n",
       "      <td>4</td>\n",
       "    </tr>\n",
       "  </tbody>\n",
       "</table>\n",
       "</div>"
      ],
      "text/plain": [
       "           word  count\n",
       "0      year old     11\n",
       "1    police say      5\n",
       "2  harry potter      4\n",
       "3      pet fish      4\n",
       "4  donald trump      4"
      ]
     },
     "execution_count": 23,
     "metadata": {},
     "output_type": "execute_result"
    }
   ],
   "source": [
    "word_count_notonion.head()"
   ]
  },
  {
   "cell_type": "code",
   "execution_count": 11,
   "metadata": {},
   "outputs": [],
   "source": [
    "Onion = pd.concat([Titles_onion, Subreddit_onion], axis = 1)"
   ]
  },
  {
   "cell_type": "code",
   "execution_count": 12,
   "metadata": {},
   "outputs": [
    {
     "data": {
      "text/plain": [
       "'The Onion Reviews ‘Pet Sematary’'"
      ]
     },
     "execution_count": 12,
     "metadata": {},
     "output_type": "execute_result"
    }
   ],
   "source": [
    "Onion['Titles'][30]"
   ]
  },
  {
   "cell_type": "code",
   "execution_count": 19,
   "metadata": {},
   "outputs": [],
   "source": [
    "train_corpus_onion = Onion['Titles']\n",
    "test_corpus_onion = Onion['Subreddit']\n",
    "\n",
    "# Instantiate a CountVectorizer\n",
    "cvec_onion = CountVectorizer(stop_words='english', ngram_range = (2,2))\n",
    "\n",
    "# Fit the vectorizer on our corpus\n",
    "cvec_onion.fit(train_corpus_no)\n",
    "#Set X_train\n",
    "X_train_onion = cvec_onion.transform(train_corpus_onion)\n",
    "X_test_onion = test_corpus_onion\n",
    "\n",
    "#CountVectorizer(ngram_range = (2,2)).fit(train_corpus).get_feature_names()\n",
    "\n",
    "#Dataframe of bag of words at ngrams 2,2\n",
    "X_train_cvec_onion =pd.DataFrame(X_train_onion.todense(), columns=cvec_onion.get_feature_names())"
   ]
  },
  {
   "cell_type": "code",
   "execution_count": 20,
   "metadata": {},
   "outputs": [
    {
     "name": "stdout",
     "output_type": "stream",
     "text": [
      "year old            14\n",
      "super bowl          10\n",
      "study finds          8\n",
      "pope francis         5\n",
      "introduces new       4\n",
      "harry potter         4\n",
      "12 year              3\n",
      "fox news             3\n",
      "20 years             3\n",
      "high school          3\n",
      "high speed           3\n",
      "don know             3\n",
      "supreme court        2\n",
      "green new            2\n",
      "old birthday         2\n",
      "democratic party     2\n",
      "school district      2\n",
      "tucker carlson       2\n",
      "donald trump         2\n",
      "kim jong             1\n",
      "giving birth         1\n",
      "new deal             1\n",
      "just asking          1\n",
      "man gets             1\n",
      "trump claims         1\n",
      "wants know           1\n",
      "elderly woman        1\n",
      "social media         1\n",
      "cruel unusual        1\n",
      "married cousin       1\n",
      "dtype: int64\n"
     ]
    }
   ],
   "source": [
    "onion_words = X_train_cvec_onion.sum(axis = 0)\n",
    "word_list_onion =onion_words.sort_values(ascending = False).head(30)\n",
    "print(word_list_onion)"
   ]
  },
  {
   "cell_type": "code",
   "execution_count": 27,
   "metadata": {},
   "outputs": [],
   "source": [
    "word_count_onion = pd.DataFrame(word_list_onion).reset_index().rename(columns = {\"index\": 'word', 0: 'count'})"
   ]
  },
  {
   "cell_type": "code",
   "execution_count": 28,
   "metadata": {
    "scrolled": true
   },
   "outputs": [
    {
     "data": {
      "text/html": [
       "<div>\n",
       "<style scoped>\n",
       "    .dataframe tbody tr th:only-of-type {\n",
       "        vertical-align: middle;\n",
       "    }\n",
       "\n",
       "    .dataframe tbody tr th {\n",
       "        vertical-align: top;\n",
       "    }\n",
       "\n",
       "    .dataframe thead th {\n",
       "        text-align: right;\n",
       "    }\n",
       "</style>\n",
       "<table border=\"1\" class=\"dataframe\">\n",
       "  <thead>\n",
       "    <tr style=\"text-align: right;\">\n",
       "      <th></th>\n",
       "      <th>word</th>\n",
       "      <th>count</th>\n",
       "    </tr>\n",
       "  </thead>\n",
       "  <tbody>\n",
       "    <tr>\n",
       "      <th>0</th>\n",
       "      <td>year old</td>\n",
       "      <td>14</td>\n",
       "    </tr>\n",
       "    <tr>\n",
       "      <th>1</th>\n",
       "      <td>super bowl</td>\n",
       "      <td>10</td>\n",
       "    </tr>\n",
       "    <tr>\n",
       "      <th>2</th>\n",
       "      <td>study finds</td>\n",
       "      <td>8</td>\n",
       "    </tr>\n",
       "    <tr>\n",
       "      <th>3</th>\n",
       "      <td>pope francis</td>\n",
       "      <td>5</td>\n",
       "    </tr>\n",
       "    <tr>\n",
       "      <th>4</th>\n",
       "      <td>introduces new</td>\n",
       "      <td>4</td>\n",
       "    </tr>\n",
       "  </tbody>\n",
       "</table>\n",
       "</div>"
      ],
      "text/plain": [
       "             word  count\n",
       "0        year old     14\n",
       "1      super bowl     10\n",
       "2     study finds      8\n",
       "3    pope francis      5\n",
       "4  introduces new      4"
      ]
     },
     "execution_count": 28,
     "metadata": {},
     "output_type": "execute_result"
    }
   ],
   "source": [
    "word_count_onion.head()"
   ]
  },
  {
   "cell_type": "code",
   "execution_count": 32,
   "metadata": {},
   "outputs": [
    {
     "data": {
      "image/png": "[encoded data removed]",
      "text/plain": [
       "<Figure size 1080x720 with 1 Axes>"
      ]
     },
     "metadata": {
      "needs_background": "light"
     },
     "output_type": "display_data"
    }
   ],
   "source": [
    "#bargraph of most used words in the onion\n",
    "plt.figure(figsize=(15,10))\n",
    "sns.barplot(x = 'word', y='count', data = word_count_onion)\n",
    "plt.title('Frequency of Words ngram range (2,2)')\n",
    "plt.xticks(rotation=70);"
   ]
  },
  {
   "cell_type": "code",
   "execution_count": 33,
   "metadata": {},
   "outputs": [
    {
     "data": {
      "image/png": "[encoded data removed]",
      "text/plain": [
       "<Figure size 1080x720 with 1 Axes>"
      ]
     },
     "metadata": {
      "needs_background": "light"
     },
     "output_type": "display_data"
    }
   ],
   "source": [
    "#bargraph of most used words in the onion\n",
    "plt.figure(figsize=(15,10))\n",
    "sns.barplot(x = 'word', y='count', data = word_count_notonion)\n",
    "plt.title('Frequency of Words ngram range (2,2)')\n",
    "plt.xticks(rotation=70);"
   ]
  },
  {
   "cell_type": "code",
   "execution_count": 15,
   "metadata": {},
   "outputs": [],
   "source": [
    "reddit = pd.concat([Not, Onion], axis = 0)"
   ]
  },
  {
   "cell_type": "code",
   "execution_count": 16,
   "metadata": {},
   "outputs": [
    {
     "data": {
      "text/html": [
       "<div>\n",
       "<style scoped>\n",
       "    .dataframe tbody tr th:only-of-type {\n",
       "        vertical-align: middle;\n",
       "    }\n",
       "\n",
       "    .dataframe tbody tr th {\n",
       "        vertical-align: top;\n",
       "    }\n",
       "\n",
       "    .dataframe thead th {\n",
       "        text-align: right;\n",
       "    }\n",
       "</style>\n",
       "<table border=\"1\" class=\"dataframe\">\n",
       "  <thead>\n",
       "    <tr style=\"text-align: right;\">\n",
       "      <th></th>\n",
       "      <th>Titles</th>\n",
       "      <th>Subreddit</th>\n",
       "    </tr>\n",
       "  </thead>\n",
       "  <tbody>\n",
       "    <tr>\n",
       "      <th>0</th>\n",
       "      <td>Wife of El Chapo Having Trouble Trademarking H...</td>\n",
       "      <td>nottheonion</td>\n",
       "    </tr>\n",
       "    <tr>\n",
       "      <th>1</th>\n",
       "      <td>Canadian Family Stopped At Border After Drivin...</td>\n",
       "      <td>nottheonion</td>\n",
       "    </tr>\n",
       "    <tr>\n",
       "      <th>2</th>\n",
       "      <td>Zimbabwe spent thousands of dollars on judges'...</td>\n",
       "      <td>nottheonion</td>\n",
       "    </tr>\n",
       "    <tr>\n",
       "      <th>3</th>\n",
       "      <td>Motel 6 To Pay $12 Million After Improperly Gi...</td>\n",
       "      <td>nottheonion</td>\n",
       "    </tr>\n",
       "    <tr>\n",
       "      <th>4</th>\n",
       "      <td>Ex-Rep. Anthony Weiner ordered to register as ...</td>\n",
       "      <td>nottheonion</td>\n",
       "    </tr>\n",
       "  </tbody>\n",
       "</table>\n",
       "</div>"
      ],
      "text/plain": [
       "                                              Titles    Subreddit\n",
       "0  Wife of El Chapo Having Trouble Trademarking H...  nottheonion\n",
       "1  Canadian Family Stopped At Border After Drivin...  nottheonion\n",
       "2  Zimbabwe spent thousands of dollars on judges'...  nottheonion\n",
       "3  Motel 6 To Pay $12 Million After Improperly Gi...  nottheonion\n",
       "4  Ex-Rep. Anthony Weiner ordered to register as ...  nottheonion"
      ]
     },
     "execution_count": 16,
     "metadata": {},
     "output_type": "execute_result"
    }
   ],
   "source": [
    "reddit.head()"
   ]
  },
  {
   "cell_type": "code",
   "execution_count": 17,
   "metadata": {},
   "outputs": [],
   "source": [
    "#reddit = reddit.to_csv('./scraped_data.csv')"
   ]
  },
  {
   "cell_type": "code",
   "execution_count": 37,
   "metadata": {
    "scrolled": true
   },
   "outputs": [
    {
     "data": {
      "text/plain": [
       "(1375, 2)"
      ]
     },
     "execution_count": 37,
     "metadata": {},
     "output_type": "execute_result"
    }
   ],
   "source": [
    "reddit.shape"
   ]
  },
  {
   "cell_type": "code",
   "execution_count": null,
   "metadata": {},
   "outputs": [],
   "source": []
  }
 ],
 "metadata": {
  "kernelspec": {
   "display_name": "Python 3",
   "language": "python",
   "name": "python3"
  },
  "language_info": {
   "codemirror_mode": {
    "name": "ipython",
    "version": 3
   },
   "file_extension": ".py",
   "mimetype": "text/x-python",
   "name": "python",
   "nbconvert_exporter": "python",
   "pygments_lexer": "ipython3",
   "version": "3.6.8"
  }
 },
 "nbformat": 4,
 "nbformat_minor": 2
}
