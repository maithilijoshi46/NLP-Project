{
 "cells": [
  {
   "cell_type": "code",
   "execution_count": 1,
   "metadata": {},
   "outputs": [],
   "source": [
    "import seaborn as sns\n",
    "import pandas as pd\n",
    "import sklearn\n",
    "import numpy as np\n",
    "import nltk\n",
    "from nltk.tokenize import RegexpTokenizer\n",
    "import regex as re\n",
    "from sklearn.pipeline import Pipeline\n",
    "from sklearn.model_selection import cross_val_score, train_test_split\n",
    "from sklearn.feature_extraction.text import CountVectorizer, TfidfVectorizer,HashingVectorizer\n",
    "\n",
    "from sklearn.feature_extraction import stop_words\n",
    "import matplotlib.pyplot as plt\n",
    "\n",
    "%matplotlib inline"
   ]
  },
  {
   "cell_type": "code",
   "execution_count": 2,
   "metadata": {},
   "outputs": [],
   "source": [
    "reddits = pd.read_csv(\"scraped_data.csv\")"
   ]
  },
  {
   "cell_type": "code",
   "execution_count": 3,
   "metadata": {},
   "outputs": [
    {
     "data": {
      "text/html": [
       "<div>\n",
       "<style scoped>\n",
       "    .dataframe tbody tr th:only-of-type {\n",
       "        vertical-align: middle;\n",
       "    }\n",
       "\n",
       "    .dataframe tbody tr th {\n",
       "        vertical-align: top;\n",
       "    }\n",
       "\n",
       "    .dataframe thead th {\n",
       "        text-align: right;\n",
       "    }\n",
       "</style>\n",
       "<table border=\"1\" class=\"dataframe\">\n",
       "  <thead>\n",
       "    <tr style=\"text-align: right;\">\n",
       "      <th></th>\n",
       "      <th>Unnamed: 0</th>\n",
       "      <th>Titles</th>\n",
       "      <th>Subreddit</th>\n",
       "    </tr>\n",
       "  </thead>\n",
       "  <tbody>\n",
       "    <tr>\n",
       "      <th>0</th>\n",
       "      <td>0</td>\n",
       "      <td>Plant-Based Meat Sales Rise, Fueled by Carnivores</td>\n",
       "      <td>nottheonion</td>\n",
       "    </tr>\n",
       "    <tr>\n",
       "      <th>1</th>\n",
       "      <td>1</td>\n",
       "      <td>Someone is using Gabe Newell’s face to sell un...</td>\n",
       "      <td>nottheonion</td>\n",
       "    </tr>\n",
       "    <tr>\n",
       "      <th>2</th>\n",
       "      <td>2</td>\n",
       "      <td>Coming soon: Brunchables, for when you want Lu...</td>\n",
       "      <td>nottheonion</td>\n",
       "    </tr>\n",
       "    <tr>\n",
       "      <th>3</th>\n",
       "      <td>3</td>\n",
       "      <td>'Close Your Legs' Judge in NJ Sex Case Faces S...</td>\n",
       "      <td>nottheonion</td>\n",
       "    </tr>\n",
       "    <tr>\n",
       "      <th>4</th>\n",
       "      <td>4</td>\n",
       "      <td>Washington Department of Corrections Quietly B...</td>\n",
       "      <td>nottheonion</td>\n",
       "    </tr>\n",
       "  </tbody>\n",
       "</table>\n",
       "</div>"
      ],
      "text/plain": [
       "   Unnamed: 0                                             Titles    Subreddit\n",
       "0           0  Plant-Based Meat Sales Rise, Fueled by Carnivores  nottheonion\n",
       "1           1  Someone is using Gabe Newell’s face to sell un...  nottheonion\n",
       "2           2  Coming soon: Brunchables, for when you want Lu...  nottheonion\n",
       "3           3  'Close Your Legs' Judge in NJ Sex Case Faces S...  nottheonion\n",
       "4           4  Washington Department of Corrections Quietly B...  nottheonion"
      ]
     },
     "execution_count": 3,
     "metadata": {},
     "output_type": "execute_result"
    }
   ],
   "source": [
    "reddits.head()"
   ]
  },
  {
   "cell_type": "code",
   "execution_count": 4,
   "metadata": {},
   "outputs": [],
   "source": [
    "#Creating dummy variables for the subreddit column so I can later perform classification regression on this dataset.\n",
    "reddits = pd.get_dummies(reddits, columns =['Subreddit'], drop_first=True)"
   ]
  },
  {
   "cell_type": "code",
   "execution_count": 5,
   "metadata": {},
   "outputs": [],
   "source": [
    "#Ensuring that there are no duplicates in my datafame\n",
    "reddits = reddits.drop_duplicates()"
   ]
  },
  {
   "cell_type": "code",
   "execution_count": 6,
   "metadata": {},
   "outputs": [
    {
     "data": {
      "text/html": [
       "<div>\n",
       "<style scoped>\n",
       "    .dataframe tbody tr th:only-of-type {\n",
       "        vertical-align: middle;\n",
       "    }\n",
       "\n",
       "    .dataframe tbody tr th {\n",
       "        vertical-align: top;\n",
       "    }\n",
       "\n",
       "    .dataframe thead th {\n",
       "        text-align: right;\n",
       "    }\n",
       "</style>\n",
       "<table border=\"1\" class=\"dataframe\">\n",
       "  <thead>\n",
       "    <tr style=\"text-align: right;\">\n",
       "      <th></th>\n",
       "      <th>Unnamed: 0</th>\n",
       "      <th>Titles</th>\n",
       "      <th>Subreddit_nottheonion</th>\n",
       "    </tr>\n",
       "  </thead>\n",
       "  <tbody>\n",
       "    <tr>\n",
       "      <th>0</th>\n",
       "      <td>0</td>\n",
       "      <td>Plant-Based Meat Sales Rise, Fueled by Carnivores</td>\n",
       "      <td>1</td>\n",
       "    </tr>\n",
       "    <tr>\n",
       "      <th>1</th>\n",
       "      <td>1</td>\n",
       "      <td>Someone is using Gabe Newell’s face to sell un...</td>\n",
       "      <td>1</td>\n",
       "    </tr>\n",
       "    <tr>\n",
       "      <th>2</th>\n",
       "      <td>2</td>\n",
       "      <td>Coming soon: Brunchables, for when you want Lu...</td>\n",
       "      <td>1</td>\n",
       "    </tr>\n",
       "    <tr>\n",
       "      <th>3</th>\n",
       "      <td>3</td>\n",
       "      <td>'Close Your Legs' Judge in NJ Sex Case Faces S...</td>\n",
       "      <td>1</td>\n",
       "    </tr>\n",
       "    <tr>\n",
       "      <th>4</th>\n",
       "      <td>4</td>\n",
       "      <td>Washington Department of Corrections Quietly B...</td>\n",
       "      <td>1</td>\n",
       "    </tr>\n",
       "  </tbody>\n",
       "</table>\n",
       "</div>"
      ],
      "text/plain": [
       "   Unnamed: 0                                             Titles  \\\n",
       "0           0  Plant-Based Meat Sales Rise, Fueled by Carnivores   \n",
       "1           1  Someone is using Gabe Newell’s face to sell un...   \n",
       "2           2  Coming soon: Brunchables, for when you want Lu...   \n",
       "3           3  'Close Your Legs' Judge in NJ Sex Case Faces S...   \n",
       "4           4  Washington Department of Corrections Quietly B...   \n",
       "\n",
       "   Subreddit_nottheonion  \n",
       "0                      1  \n",
       "1                      1  \n",
       "2                      1  \n",
       "3                      1  \n",
       "4                      1  "
      ]
     },
     "execution_count": 6,
     "metadata": {},
     "output_type": "execute_result"
    }
   ],
   "source": [
    "reddits.head()"
   ]
  },
  {
   "cell_type": "code",
   "execution_count": 7,
   "metadata": {},
   "outputs": [],
   "source": [
    "#Dropping Unnamed:0\n",
    "reddits = reddits.drop(['Unnamed: 0'], axis = 1)"
   ]
  },
  {
   "cell_type": "code",
   "execution_count": 8,
   "metadata": {
    "scrolled": true
   },
   "outputs": [
    {
     "data": {
      "text/html": [
       "<div>\n",
       "<style scoped>\n",
       "    .dataframe tbody tr th:only-of-type {\n",
       "        vertical-align: middle;\n",
       "    }\n",
       "\n",
       "    .dataframe tbody tr th {\n",
       "        vertical-align: top;\n",
       "    }\n",
       "\n",
       "    .dataframe thead th {\n",
       "        text-align: right;\n",
       "    }\n",
       "</style>\n",
       "<table border=\"1\" class=\"dataframe\">\n",
       "  <thead>\n",
       "    <tr style=\"text-align: right;\">\n",
       "      <th></th>\n",
       "      <th>Titles</th>\n",
       "      <th>Subreddit_nottheonion</th>\n",
       "    </tr>\n",
       "  </thead>\n",
       "  <tbody>\n",
       "    <tr>\n",
       "      <th>0</th>\n",
       "      <td>Plant-Based Meat Sales Rise, Fueled by Carnivores</td>\n",
       "      <td>1</td>\n",
       "    </tr>\n",
       "    <tr>\n",
       "      <th>1</th>\n",
       "      <td>Someone is using Gabe Newell’s face to sell un...</td>\n",
       "      <td>1</td>\n",
       "    </tr>\n",
       "    <tr>\n",
       "      <th>2</th>\n",
       "      <td>Coming soon: Brunchables, for when you want Lu...</td>\n",
       "      <td>1</td>\n",
       "    </tr>\n",
       "    <tr>\n",
       "      <th>3</th>\n",
       "      <td>'Close Your Legs' Judge in NJ Sex Case Faces S...</td>\n",
       "      <td>1</td>\n",
       "    </tr>\n",
       "    <tr>\n",
       "      <th>4</th>\n",
       "      <td>Washington Department of Corrections Quietly B...</td>\n",
       "      <td>1</td>\n",
       "    </tr>\n",
       "  </tbody>\n",
       "</table>\n",
       "</div>"
      ],
      "text/plain": [
       "                                              Titles  Subreddit_nottheonion\n",
       "0  Plant-Based Meat Sales Rise, Fueled by Carnivores                      1\n",
       "1  Someone is using Gabe Newell’s face to sell un...                      1\n",
       "2  Coming soon: Brunchables, for when you want Lu...                      1\n",
       "3  'Close Your Legs' Judge in NJ Sex Case Faces S...                      1\n",
       "4  Washington Department of Corrections Quietly B...                      1"
      ]
     },
     "execution_count": 8,
     "metadata": {},
     "output_type": "execute_result"
    }
   ],
   "source": [
    "#Did it work?\n",
    "reddits.head()"
   ]
  },
  {
   "cell_type": "markdown",
   "metadata": {},
   "source": [
    "# NLP pre-processing"
   ]
  },
  {
   "cell_type": "code",
   "execution_count": 9,
   "metadata": {},
   "outputs": [
    {
     "data": {
      "text/plain": [
       "0    975\n",
       "1    400\n",
       "Name: Subreddit_nottheonion, dtype: int64"
      ]
     },
     "execution_count": 9,
     "metadata": {},
     "output_type": "execute_result"
    }
   ],
   "source": [
    "#Checking to make sure there's an even number of both subreddits\n",
    "reddits['Subreddit_nottheonion'].value_counts()"
   ]
  },
  {
   "cell_type": "markdown",
   "metadata": {},
   "source": [
    "From just looking through the reddit page, I noticed that there are a few titles with characters. I'm going to create a function that iterates through the dataframe and makes these. \n",
    "\n",
    "Additionally, I'm going to make all the strings in the title lowercase and eliminate punctuation. This is to ensure baseline equality between both sets of data, and also ensuring the best possible data for the modeling process"
   ]
  },
  {
   "cell_type": "code",
   "execution_count": 10,
   "metadata": {},
   "outputs": [],
   "source": [
    "#Lowercase titles\n",
    "reddits['Titles'] = reddits[\"Titles\"].map(lambda x: x.lower())"
   ]
  },
  {
   "cell_type": "code",
   "execution_count": 11,
   "metadata": {
    "scrolled": false
   },
   "outputs": [
    {
     "data": {
      "text/html": [
       "<div>\n",
       "<style scoped>\n",
       "    .dataframe tbody tr th:only-of-type {\n",
       "        vertical-align: middle;\n",
       "    }\n",
       "\n",
       "    .dataframe tbody tr th {\n",
       "        vertical-align: top;\n",
       "    }\n",
       "\n",
       "    .dataframe thead th {\n",
       "        text-align: right;\n",
       "    }\n",
       "</style>\n",
       "<table border=\"1\" class=\"dataframe\">\n",
       "  <thead>\n",
       "    <tr style=\"text-align: right;\">\n",
       "      <th></th>\n",
       "      <th>Titles</th>\n",
       "      <th>Subreddit_nottheonion</th>\n",
       "    </tr>\n",
       "  </thead>\n",
       "  <tbody>\n",
       "    <tr>\n",
       "      <th>0</th>\n",
       "      <td>plant-based meat sales rise, fueled by carnivores</td>\n",
       "      <td>1</td>\n",
       "    </tr>\n",
       "    <tr>\n",
       "      <th>1</th>\n",
       "      <td>someone is using gabe newell’s face to sell un...</td>\n",
       "      <td>1</td>\n",
       "    </tr>\n",
       "    <tr>\n",
       "      <th>2</th>\n",
       "      <td>coming soon: brunchables, for when you want lu...</td>\n",
       "      <td>1</td>\n",
       "    </tr>\n",
       "    <tr>\n",
       "      <th>3</th>\n",
       "      <td>'close your legs' judge in nj sex case faces s...</td>\n",
       "      <td>1</td>\n",
       "    </tr>\n",
       "    <tr>\n",
       "      <th>4</th>\n",
       "      <td>washington department of corrections quietly b...</td>\n",
       "      <td>1</td>\n",
       "    </tr>\n",
       "    <tr>\n",
       "      <th>5</th>\n",
       "      <td>more condoms, fewer cigarettes found in annual...</td>\n",
       "      <td>1</td>\n",
       "    </tr>\n",
       "    <tr>\n",
       "      <th>6</th>\n",
       "      <td>university of kansas offering 'angry white mal...</td>\n",
       "      <td>1</td>\n",
       "    </tr>\n",
       "    <tr>\n",
       "      <th>7</th>\n",
       "      <td>arkansas men arrested for taking turns shootin...</td>\n",
       "      <td>1</td>\n",
       "    </tr>\n",
       "    <tr>\n",
       "      <th>8</th>\n",
       "      <td>house of commons suspended after water pours t...</td>\n",
       "      <td>1</td>\n",
       "    </tr>\n",
       "    <tr>\n",
       "      <th>9</th>\n",
       "      <td>oppo designs phone with a secondary pop-up scr...</td>\n",
       "      <td>1</td>\n",
       "    </tr>\n",
       "  </tbody>\n",
       "</table>\n",
       "</div>"
      ],
      "text/plain": [
       "                                              Titles  Subreddit_nottheonion\n",
       "0  plant-based meat sales rise, fueled by carnivores                      1\n",
       "1  someone is using gabe newell’s face to sell un...                      1\n",
       "2  coming soon: brunchables, for when you want lu...                      1\n",
       "3  'close your legs' judge in nj sex case faces s...                      1\n",
       "4  washington department of corrections quietly b...                      1\n",
       "5  more condoms, fewer cigarettes found in annual...                      1\n",
       "6  university of kansas offering 'angry white mal...                      1\n",
       "7  arkansas men arrested for taking turns shootin...                      1\n",
       "8  house of commons suspended after water pours t...                      1\n",
       "9  oppo designs phone with a secondary pop-up scr...                      1"
      ]
     },
     "execution_count": 11,
     "metadata": {},
     "output_type": "execute_result"
    }
   ],
   "source": [
    "#Check\n",
    "reddits.head(10)"
   ]
  },
  {
   "cell_type": "code",
   "execution_count": 12,
   "metadata": {},
   "outputs": [
    {
     "data": {
      "text/plain": [
       "'elliott abrams defends war crimes as happening back in the ’80s when everyone was doing it'"
      ]
     },
     "execution_count": 12,
     "metadata": {},
     "output_type": "execute_result"
    }
   ],
   "source": [
    "reddits['Titles'][888]"
   ]
  },
  {
   "cell_type": "code",
   "execution_count": 13,
   "metadata": {},
   "outputs": [],
   "source": [
    "#Cleaned data csv\n",
    "reddit_clean = reddits.to_csv('./cleaned_subreddits.csv')"
   ]
  },
  {
   "cell_type": "markdown",
   "metadata": {},
   "source": [
    "# Establishing baseline accuracy"
   ]
  },
  {
   "cell_type": "code",
   "execution_count": 14,
   "metadata": {},
   "outputs": [],
   "source": [
    "#Setting X and y variables\n",
    "X = reddits['Titles']\n",
    "y = reddits['Subreddit_nottheonion']"
   ]
  },
  {
   "cell_type": "code",
   "execution_count": 15,
   "metadata": {},
   "outputs": [
    {
     "data": {
      "text/plain": [
       "1338"
      ]
     },
     "execution_count": 15,
     "metadata": {},
     "output_type": "execute_result"
    }
   ],
   "source": [
    "#How large is my dataframe of unique columns. Set X is redundant because I dropped duplicates\n",
    "len(set(X))"
   ]
  },
  {
   "cell_type": "code",
   "execution_count": 16,
   "metadata": {},
   "outputs": [],
   "source": [
    "#Train/test split\n",
    "X_train,X_test, y_train, y_test = train_test_split(X, y, \n",
    "                                                   stratify = y, \n",
    "                                                   random_state = 42)"
   ]
  },
  {
   "cell_type": "code",
   "execution_count": 17,
   "metadata": {},
   "outputs": [
    {
     "data": {
      "text/plain": [
       "0    0.709091\n",
       "1    0.290909\n",
       "Name: Subreddit_nottheonion, dtype: float64"
      ]
     },
     "execution_count": 17,
     "metadata": {},
     "output_type": "execute_result"
    }
   ],
   "source": [
    "#baseline accuracy score\n",
    "y.value_counts(normalize = True)"
   ]
  },
  {
   "cell_type": "markdown",
   "metadata": {},
   "source": [
    "**So, we know we have a baseline accuracy score of 70.1%. This means our goal is to create a model that predicts our data at better than half the time.** "
   ]
  },
  {
   "cell_type": "markdown",
   "metadata": {},
   "source": [
    "# Bag of Words "
   ]
  },
  {
   "cell_type": "code",
   "execution_count": 18,
   "metadata": {},
   "outputs": [
    {
     "data": {
      "text/html": [
       "<div>\n",
       "<style scoped>\n",
       "    .dataframe tbody tr th:only-of-type {\n",
       "        vertical-align: middle;\n",
       "    }\n",
       "\n",
       "    .dataframe tbody tr th {\n",
       "        vertical-align: top;\n",
       "    }\n",
       "\n",
       "    .dataframe thead th {\n",
       "        text-align: right;\n",
       "    }\n",
       "</style>\n",
       "<table border=\"1\" class=\"dataframe\">\n",
       "  <thead>\n",
       "    <tr style=\"text-align: right;\">\n",
       "      <th></th>\n",
       "      <th>000 000</th>\n",
       "      <th>000 actual</th>\n",
       "      <th>000 americans</th>\n",
       "      <th>000 boyfriend</th>\n",
       "      <th>000 feet</th>\n",
       "      <th>000 food</th>\n",
       "      <th>000 men</th>\n",
       "      <th>000 new</th>\n",
       "      <th>000 pill</th>\n",
       "      <th>000 pinocchios</th>\n",
       "      <th>...</th>\n",
       "      <th>zero detainees</th>\n",
       "      <th>zero temperatures</th>\n",
       "      <th>zero trace</th>\n",
       "      <th>zion williamson</th>\n",
       "      <th>zoo posting</th>\n",
       "      <th>zoo predict</th>\n",
       "      <th>zoo turn</th>\n",
       "      <th>zoo year</th>\n",
       "      <th>zookeeper special</th>\n",
       "      <th>zuckerberg chased</th>\n",
       "    </tr>\n",
       "  </thead>\n",
       "  <tbody>\n",
       "    <tr>\n",
       "      <th>count</th>\n",
       "      <td>1375.000000</td>\n",
       "      <td>1375.000000</td>\n",
       "      <td>1375.000000</td>\n",
       "      <td>1375.000000</td>\n",
       "      <td>1375.000000</td>\n",
       "      <td>1375.000000</td>\n",
       "      <td>1375.000000</td>\n",
       "      <td>1375.000000</td>\n",
       "      <td>1375.000000</td>\n",
       "      <td>1375.000000</td>\n",
       "      <td>...</td>\n",
       "      <td>1375.000000</td>\n",
       "      <td>1375.000000</td>\n",
       "      <td>1375.000000</td>\n",
       "      <td>1375.000000</td>\n",
       "      <td>1375.000000</td>\n",
       "      <td>1375.000000</td>\n",
       "      <td>1375.000000</td>\n",
       "      <td>1375.000000</td>\n",
       "      <td>1375.000000</td>\n",
       "      <td>1375.000000</td>\n",
       "    </tr>\n",
       "    <tr>\n",
       "      <th>mean</th>\n",
       "      <td>0.001455</td>\n",
       "      <td>0.000727</td>\n",
       "      <td>0.000727</td>\n",
       "      <td>0.000727</td>\n",
       "      <td>0.000727</td>\n",
       "      <td>0.000727</td>\n",
       "      <td>0.000727</td>\n",
       "      <td>0.000727</td>\n",
       "      <td>0.000727</td>\n",
       "      <td>0.000727</td>\n",
       "      <td>...</td>\n",
       "      <td>0.001455</td>\n",
       "      <td>0.000727</td>\n",
       "      <td>0.000727</td>\n",
       "      <td>0.001455</td>\n",
       "      <td>0.000727</td>\n",
       "      <td>0.000727</td>\n",
       "      <td>0.000727</td>\n",
       "      <td>0.000727</td>\n",
       "      <td>0.000727</td>\n",
       "      <td>0.000727</td>\n",
       "    </tr>\n",
       "    <tr>\n",
       "      <th>std</th>\n",
       "      <td>0.038125</td>\n",
       "      <td>0.026968</td>\n",
       "      <td>0.026968</td>\n",
       "      <td>0.026968</td>\n",
       "      <td>0.026968</td>\n",
       "      <td>0.026968</td>\n",
       "      <td>0.026968</td>\n",
       "      <td>0.026968</td>\n",
       "      <td>0.026968</td>\n",
       "      <td>0.026968</td>\n",
       "      <td>...</td>\n",
       "      <td>0.038125</td>\n",
       "      <td>0.026968</td>\n",
       "      <td>0.026968</td>\n",
       "      <td>0.038125</td>\n",
       "      <td>0.026968</td>\n",
       "      <td>0.026968</td>\n",
       "      <td>0.026968</td>\n",
       "      <td>0.026968</td>\n",
       "      <td>0.026968</td>\n",
       "      <td>0.026968</td>\n",
       "    </tr>\n",
       "    <tr>\n",
       "      <th>min</th>\n",
       "      <td>0.000000</td>\n",
       "      <td>0.000000</td>\n",
       "      <td>0.000000</td>\n",
       "      <td>0.000000</td>\n",
       "      <td>0.000000</td>\n",
       "      <td>0.000000</td>\n",
       "      <td>0.000000</td>\n",
       "      <td>0.000000</td>\n",
       "      <td>0.000000</td>\n",
       "      <td>0.000000</td>\n",
       "      <td>...</td>\n",
       "      <td>0.000000</td>\n",
       "      <td>0.000000</td>\n",
       "      <td>0.000000</td>\n",
       "      <td>0.000000</td>\n",
       "      <td>0.000000</td>\n",
       "      <td>0.000000</td>\n",
       "      <td>0.000000</td>\n",
       "      <td>0.000000</td>\n",
       "      <td>0.000000</td>\n",
       "      <td>0.000000</td>\n",
       "    </tr>\n",
       "    <tr>\n",
       "      <th>25%</th>\n",
       "      <td>0.000000</td>\n",
       "      <td>0.000000</td>\n",
       "      <td>0.000000</td>\n",
       "      <td>0.000000</td>\n",
       "      <td>0.000000</td>\n",
       "      <td>0.000000</td>\n",
       "      <td>0.000000</td>\n",
       "      <td>0.000000</td>\n",
       "      <td>0.000000</td>\n",
       "      <td>0.000000</td>\n",
       "      <td>...</td>\n",
       "      <td>0.000000</td>\n",
       "      <td>0.000000</td>\n",
       "      <td>0.000000</td>\n",
       "      <td>0.000000</td>\n",
       "      <td>0.000000</td>\n",
       "      <td>0.000000</td>\n",
       "      <td>0.000000</td>\n",
       "      <td>0.000000</td>\n",
       "      <td>0.000000</td>\n",
       "      <td>0.000000</td>\n",
       "    </tr>\n",
       "    <tr>\n",
       "      <th>50%</th>\n",
       "      <td>0.000000</td>\n",
       "      <td>0.000000</td>\n",
       "      <td>0.000000</td>\n",
       "      <td>0.000000</td>\n",
       "      <td>0.000000</td>\n",
       "      <td>0.000000</td>\n",
       "      <td>0.000000</td>\n",
       "      <td>0.000000</td>\n",
       "      <td>0.000000</td>\n",
       "      <td>0.000000</td>\n",
       "      <td>...</td>\n",
       "      <td>0.000000</td>\n",
       "      <td>0.000000</td>\n",
       "      <td>0.000000</td>\n",
       "      <td>0.000000</td>\n",
       "      <td>0.000000</td>\n",
       "      <td>0.000000</td>\n",
       "      <td>0.000000</td>\n",
       "      <td>0.000000</td>\n",
       "      <td>0.000000</td>\n",
       "      <td>0.000000</td>\n",
       "    </tr>\n",
       "    <tr>\n",
       "      <th>75%</th>\n",
       "      <td>0.000000</td>\n",
       "      <td>0.000000</td>\n",
       "      <td>0.000000</td>\n",
       "      <td>0.000000</td>\n",
       "      <td>0.000000</td>\n",
       "      <td>0.000000</td>\n",
       "      <td>0.000000</td>\n",
       "      <td>0.000000</td>\n",
       "      <td>0.000000</td>\n",
       "      <td>0.000000</td>\n",
       "      <td>...</td>\n",
       "      <td>0.000000</td>\n",
       "      <td>0.000000</td>\n",
       "      <td>0.000000</td>\n",
       "      <td>0.000000</td>\n",
       "      <td>0.000000</td>\n",
       "      <td>0.000000</td>\n",
       "      <td>0.000000</td>\n",
       "      <td>0.000000</td>\n",
       "      <td>0.000000</td>\n",
       "      <td>0.000000</td>\n",
       "    </tr>\n",
       "    <tr>\n",
       "      <th>max</th>\n",
       "      <td>1.000000</td>\n",
       "      <td>1.000000</td>\n",
       "      <td>1.000000</td>\n",
       "      <td>1.000000</td>\n",
       "      <td>1.000000</td>\n",
       "      <td>1.000000</td>\n",
       "      <td>1.000000</td>\n",
       "      <td>1.000000</td>\n",
       "      <td>1.000000</td>\n",
       "      <td>1.000000</td>\n",
       "      <td>...</td>\n",
       "      <td>1.000000</td>\n",
       "      <td>1.000000</td>\n",
       "      <td>1.000000</td>\n",
       "      <td>1.000000</td>\n",
       "      <td>1.000000</td>\n",
       "      <td>1.000000</td>\n",
       "      <td>1.000000</td>\n",
       "      <td>1.000000</td>\n",
       "      <td>1.000000</td>\n",
       "      <td>1.000000</td>\n",
       "    </tr>\n",
       "  </tbody>\n",
       "</table>\n",
       "<p>8 rows × 9404 columns</p>\n",
       "</div>"
      ],
      "text/plain": [
       "           000 000   000 actual  000 americans  000 boyfriend     000 feet  \\\n",
       "count  1375.000000  1375.000000    1375.000000    1375.000000  1375.000000   \n",
       "mean      0.001455     0.000727       0.000727       0.000727     0.000727   \n",
       "std       0.038125     0.026968       0.026968       0.026968     0.026968   \n",
       "min       0.000000     0.000000       0.000000       0.000000     0.000000   \n",
       "25%       0.000000     0.000000       0.000000       0.000000     0.000000   \n",
       "50%       0.000000     0.000000       0.000000       0.000000     0.000000   \n",
       "75%       0.000000     0.000000       0.000000       0.000000     0.000000   \n",
       "max       1.000000     1.000000       1.000000       1.000000     1.000000   \n",
       "\n",
       "          000 food      000 men      000 new     000 pill  000 pinocchios  \\\n",
       "count  1375.000000  1375.000000  1375.000000  1375.000000     1375.000000   \n",
       "mean      0.000727     0.000727     0.000727     0.000727        0.000727   \n",
       "std       0.026968     0.026968     0.026968     0.026968        0.026968   \n",
       "min       0.000000     0.000000     0.000000     0.000000        0.000000   \n",
       "25%       0.000000     0.000000     0.000000     0.000000        0.000000   \n",
       "50%       0.000000     0.000000     0.000000     0.000000        0.000000   \n",
       "75%       0.000000     0.000000     0.000000     0.000000        0.000000   \n",
       "max       1.000000     1.000000     1.000000     1.000000        1.000000   \n",
       "\n",
       "       ...  zero detainees  zero temperatures   zero trace  zion williamson  \\\n",
       "count  ...     1375.000000        1375.000000  1375.000000      1375.000000   \n",
       "mean   ...        0.001455           0.000727     0.000727         0.001455   \n",
       "std    ...        0.038125           0.026968     0.026968         0.038125   \n",
       "min    ...        0.000000           0.000000     0.000000         0.000000   \n",
       "25%    ...        0.000000           0.000000     0.000000         0.000000   \n",
       "50%    ...        0.000000           0.000000     0.000000         0.000000   \n",
       "75%    ...        0.000000           0.000000     0.000000         0.000000   \n",
       "max    ...        1.000000           1.000000     1.000000         1.000000   \n",
       "\n",
       "       zoo posting  zoo predict     zoo turn     zoo year  zookeeper special  \\\n",
       "count  1375.000000  1375.000000  1375.000000  1375.000000        1375.000000   \n",
       "mean      0.000727     0.000727     0.000727     0.000727           0.000727   \n",
       "std       0.026968     0.026968     0.026968     0.026968           0.026968   \n",
       "min       0.000000     0.000000     0.000000     0.000000           0.000000   \n",
       "25%       0.000000     0.000000     0.000000     0.000000           0.000000   \n",
       "50%       0.000000     0.000000     0.000000     0.000000           0.000000   \n",
       "75%       0.000000     0.000000     0.000000     0.000000           0.000000   \n",
       "max       1.000000     1.000000     1.000000     1.000000           1.000000   \n",
       "\n",
       "       zuckerberg chased  \n",
       "count        1375.000000  \n",
       "mean            0.000727  \n",
       "std             0.026968  \n",
       "min             0.000000  \n",
       "25%             0.000000  \n",
       "50%             0.000000  \n",
       "75%             0.000000  \n",
       "max             1.000000  \n",
       "\n",
       "[8 rows x 9404 columns]"
      ]
     },
     "execution_count": 18,
     "metadata": {},
     "output_type": "execute_result"
    }
   ],
   "source": [
    "train_corpus = reddits['Titles']\n",
    "test_corpus = reddits['Subreddit_nottheonion']\n",
    "\n",
    "# Instantiate a CountVectorizer\n",
    "cvec = CountVectorizer(stop_words='english', ngram_range = (2,2))\n",
    "\n",
    "# Fit the vectorizer on our corpus\n",
    "cvec.fit(train_corpus)\n",
    "#Set X_train\n",
    "X_train = cvec.transform(train_corpus)\n",
    "X_test = test_corpus\n",
    "\n",
    "#CountVectorizer(ngram_range = (2,2)).fit(train_corpus).get_feature_names()\n",
    "\n",
    "#Dataframe of bag of words at ngrams 2,2\n",
    "X_train_cvec_2 =pd.DataFrame(X_train.todense(), columns=cvec.get_feature_names())\n",
    "\n",
    "X_train_cvec_2.describe()"
   ]
  },
  {
   "cell_type": "code",
   "execution_count": 19,
   "metadata": {
    "scrolled": false
   },
   "outputs": [
    {
     "name": "stdout",
     "output_type": "stream",
     "text": [
      "year old             24\n",
      "super bowl           11\n",
      "study finds          10\n",
      "releases new          8\n",
      "bernie sanders        7\n",
      "white house           7\n",
      "area man              7\n",
      "pope francis          6\n",
      "harry potter          6\n",
      "alexandria ocasio     6\n",
      "supreme court         6\n",
      "new york              6\n",
      "ocasio cortez         6\n",
      "20 years              5\n",
      "change way            5\n",
      "things know           5\n",
      "way watch             5\n",
      "donald trump          5\n",
      "roger stone           5\n",
      "introduces new        5\n",
      "bryce harper          4\n",
      "new evidence          4\n",
      "michael jackson       4\n",
      "robert mueller        4\n",
      "climate change        4\n",
      "high speed            4\n",
      "high school           4\n",
      "police say            4\n",
      "fox news              4\n",
      "don know              4\n",
      "dtype: int64\n"
     ]
    }
   ],
   "source": [
    "#Making a dataframe of only the top most used words \n",
    "num_words = X_train_cvec_2.sum(axis = 0)\n",
    "word_list = num_words.sort_values(ascending = False).head(30)\n",
    "print(word_list)"
   ]
  },
  {
   "cell_type": "code",
   "execution_count": 20,
   "metadata": {},
   "outputs": [],
   "source": [
    "word_count = pd.DataFrame(word_list).reset_index().rename(columns = {\"index\": 'word', 0: 'count'})"
   ]
  },
  {
   "cell_type": "code",
   "execution_count": 21,
   "metadata": {},
   "outputs": [],
   "source": [
    "#word_count"
   ]
  },
  {
   "cell_type": "code",
   "execution_count": 22,
   "metadata": {
    "scrolled": false
   },
   "outputs": [
    {
     "data": {
      "image/png": "[encoded data removed]",
      "text/plain": [
       "<Figure size 1080x720 with 1 Axes>"
      ]
     },
     "metadata": {
      "needs_background": "light"
     },
     "output_type": "display_data"
    }
   ],
   "source": [
    "plt.figure(figsize=(15,10))\n",
    "sns.barplot(x = 'word', y='count', data = word_count)\n",
    "plt.title('Frequency of Words ngram range (2,2)')\n",
    "plt.xticks(rotation=70);"
   ]
  }
 ],
 "metadata": {
  "kernelspec": {
   "display_name": "Python 3",
   "language": "python",
   "name": "python3"
  },
  "language_info": {
   "codemirror_mode": {
    "name": "ipython",
    "version": 3
   },
   "file_extension": ".py",
   "mimetype": "text/x-python",
   "name": "python",
   "nbconvert_exporter": "python",
   "pygments_lexer": "ipython3",
   "version": "3.6.8"
  }
 },
 "nbformat": 4,
 "nbformat_minor": 2
}
