{
 "cells": [
  {
   "cell_type": "markdown",
   "metadata": {},
   "source": [
    "To look at each model click below:\n",
    "\n",
    "\n",
    "\n",
    "\n",
    "- [Count Vectorizer with parameters](#count)\n",
    "- [TF-IDF with Parameters](#tf)\n",
    "- [Logistic Regression](#log)\n",
    "- [Naive Bayes CV (multinomial)](#naive-cv)\n",
    "- [NB TF-IDF](#naive-tf)\n",
    "- [Random Forests CV](#forests-cv) \n",
    "- [Random Forests TF-IDF](#forests-tf) \n",
    "- [Best Performing Models](#best) \n",
    "- [Visualizations](#vis) "
   ]
  },
  {
   "cell_type": "code",
   "execution_count": 79,
   "metadata": {},
   "outputs": [],
   "source": [
    "import pandas as pd\n",
    "import seaborn as sns\n",
    "from sklearn.feature_extraction.text import CountVectorizer, TfidfVectorizer, HashingVectorizer\n",
    "from sklearn.linear_model import LogisticRegression\n",
    "from sklearn.model_selection import train_test_split, GridSearchCV, cross_val_score\n",
    "from sklearn.ensemble import RandomForestClassifier, ExtraTreesClassifier\n",
    "from sklearn.naive_bayes import BernoulliNB, MultinomialNB\n",
    "from sklearn.pipeline import Pipeline\n",
    "from sklearn import svm\n",
    "import matplotlib.pyplot as plt\n",
    "\n",
    "%matplotlib inline"
   ]
  },
  {
   "cell_type": "code",
   "execution_count": 45,
   "metadata": {},
   "outputs": [],
   "source": [
    "reddit_df = pd.read_csv('./cleaned_subreddits.csv')"
   ]
  },
  {
   "cell_type": "code",
   "execution_count": 46,
   "metadata": {},
   "outputs": [],
   "source": [
    "reddit_df = reddit_df.drop(['Unnamed: 0'], axis = 1)"
   ]
  },
  {
   "cell_type": "code",
   "execution_count": 47,
   "metadata": {
    "scrolled": false
   },
   "outputs": [
    {
     "data": {
      "text/html": [
       "<div>\n",
       "<style scoped>\n",
       "    .dataframe tbody tr th:only-of-type {\n",
       "        vertical-align: middle;\n",
       "    }\n",
       "\n",
       "    .dataframe tbody tr th {\n",
       "        vertical-align: top;\n",
       "    }\n",
       "\n",
       "    .dataframe thead th {\n",
       "        text-align: right;\n",
       "    }\n",
       "</style>\n",
       "<table border=\"1\" class=\"dataframe\">\n",
       "  <thead>\n",
       "    <tr style=\"text-align: right;\">\n",
       "      <th></th>\n",
       "      <th>Titles</th>\n",
       "      <th>Subreddit_nottheonion</th>\n",
       "    </tr>\n",
       "  </thead>\n",
       "  <tbody>\n",
       "    <tr>\n",
       "      <th>0</th>\n",
       "      <td>plant-based meat sales rise, fueled by carnivores</td>\n",
       "      <td>1</td>\n",
       "    </tr>\n",
       "    <tr>\n",
       "      <th>1</th>\n",
       "      <td>someone is using gabe newell’s face to sell un...</td>\n",
       "      <td>1</td>\n",
       "    </tr>\n",
       "    <tr>\n",
       "      <th>2</th>\n",
       "      <td>coming soon: brunchables, for when you want lu...</td>\n",
       "      <td>1</td>\n",
       "    </tr>\n",
       "    <tr>\n",
       "      <th>3</th>\n",
       "      <td>'close your legs' judge in nj sex case faces s...</td>\n",
       "      <td>1</td>\n",
       "    </tr>\n",
       "    <tr>\n",
       "      <th>4</th>\n",
       "      <td>washington department of corrections quietly b...</td>\n",
       "      <td>1</td>\n",
       "    </tr>\n",
       "  </tbody>\n",
       "</table>\n",
       "</div>"
      ],
      "text/plain": [
       "                                              Titles  Subreddit_nottheonion\n",
       "0  plant-based meat sales rise, fueled by carnivores                      1\n",
       "1  someone is using gabe newell’s face to sell un...                      1\n",
       "2  coming soon: brunchables, for when you want lu...                      1\n",
       "3  'close your legs' judge in nj sex case faces s...                      1\n",
       "4  washington department of corrections quietly b...                      1"
      ]
     },
     "execution_count": 47,
     "metadata": {},
     "output_type": "execute_result"
    }
   ],
   "source": [
    "reddit_df.head()"
   ]
  },
  {
   "cell_type": "code",
   "execution_count": 48,
   "metadata": {},
   "outputs": [
    {
     "name": "stdout",
     "output_type": "stream",
     "text": [
      "unique values: 1338\n",
      "shape df: (1375, 2)\n"
     ]
    }
   ],
   "source": [
    "#727 unique values \n",
    "print('unique values:', len(set(reddit_df['Titles'])))\n",
    "\n",
    "print('shape df:', reddit_df.shape)"
   ]
  },
  {
   "cell_type": "code",
   "execution_count": 49,
   "metadata": {},
   "outputs": [],
   "source": [
    "X = reddit_df['Titles']\n",
    "y= reddit_df['Subreddit_nottheonion']"
   ]
  },
  {
   "cell_type": "code",
   "execution_count": 50,
   "metadata": {},
   "outputs": [],
   "source": [
    "X_train, X_test, y_train, y_test = train_test_split(X, y,\n",
    "                                                   random_state = 42,\n",
    "                                                   stratify = y)"
   ]
  },
  {
   "cell_type": "markdown",
   "metadata": {},
   "source": [
    "<a id='count'></a>\n",
    "# Count Vectorizer with parameters \n",
    "\n",
    "\n",
    "What does countVectorizer do? "
   ]
  },
  {
   "cell_type": "code",
   "execution_count": 51,
   "metadata": {},
   "outputs": [],
   "source": [
    "cv = CountVectorizer()\n",
    "\n",
    "# Fit the vectorizer on our corpus and transform\n",
    "X_train_cv = cv.fit_transform(X_train)\n",
    "X_train_cv = pd.DataFrame(X_train_cv.toarray(), columns=cv.get_feature_names())\n",
    "\n",
    "# Transform the test set\n",
    "X_test_cv = cv.transform(X_test)"
   ]
  },
  {
   "cell_type": "code",
   "execution_count": 52,
   "metadata": {
    "scrolled": false
   },
   "outputs": [
    {
     "name": "stdout",
     "output_type": "stream",
     "text": [
      "0.7963142580019399\n",
      "{'cv__max_features': 2500, 'cv__ngram_range': (1, 1)}\n",
      "CV train score: 0.9932104752667313\n",
      "CV test score: 0.813953488372093\n"
     ]
    }
   ],
   "source": [
    "#GridSearch CV\n",
    "pipe2 = Pipeline([\n",
    "    ('cv', CountVectorizer()),\n",
    "    ('lr', LogisticRegression(solver = 'liblinear'))\n",
    "])\n",
    "\n",
    "params = {'cv__max_features': ([2000, 2500, 3000]),\n",
    "         'cv__ngram_range': ([(1,1), (1,2), (2,2)])}\n",
    "\n",
    "\n",
    "gs = GridSearchCV(pipe2, param_grid = params, cv = 5)\n",
    "gs.fit(X_train, y_train) \n",
    "print(gs.best_score_)\n",
    "print(gs.best_params_)\n",
    "\n",
    "print('CV train score:', gs.score(X_train, y_train))\n",
    "print('CV test score:', gs.score(X_test, y_test))"
   ]
  },
  {
   "cell_type": "markdown",
   "metadata": {},
   "source": [
    "<a id='tf'></a>\n",
    "# TF-IDF with Parameters"
   ]
  },
  {
   "cell_type": "code",
   "execution_count": 53,
   "metadata": {},
   "outputs": [
    {
     "name": "stdout",
     "output_type": "stream",
     "text": [
      "0.7478176527643065\n"
     ]
    },
    {
     "data": {
      "text/plain": [
       "{'tf__max_features': 900, 'tf__ngram_range': (1, 1), 'tf__stop_words': None}"
      ]
     },
     "execution_count": 53,
     "metadata": {},
     "output_type": "execute_result"
    }
   ],
   "source": [
    "# TF-IDF\n",
    "#Set Pipeline\n",
    "pipe2 = Pipeline([\n",
    "    ('tf', TfidfVectorizer()),\n",
    "    ('lr', LogisticRegression(solver = 'liblinear'))\n",
    "])\n",
    "\n",
    "#Make Parameters\n",
    "params2 = {\n",
    "    'tf__stop_words': [None, 'english'],\n",
    "    'tf__ngram_range': [(1,1), (1,2), (2,2)],\n",
    "    'tf__max_features': [250, 500, 900]\n",
    "}\n",
    "\n",
    "#Gridsearching\n",
    "gs = GridSearchCV(pipe2, param_grid = params2, cv = 5)\n",
    "gs.fit(X_train, y_train)  #also does CV in the background\n",
    "print(gs.best_score_)\n",
    "gs.best_params_"
   ]
  },
  {
   "cell_type": "code",
   "execution_count": 54,
   "metadata": {},
   "outputs": [],
   "source": [
    "tf = TfidfVectorizer(ngram_range=(1,1), max_features=900, stop_words='english')\n",
    "\n",
    "# Fit the vectorizer on our corpus and transform\n",
    "X_train_tf = tf.fit_transform(X_train)\n",
    "X_train_tf_df = pd.DataFrame(X_train_tf.toarray(), columns=tf.get_feature_names())\n",
    "\n",
    "# Transform the test set\n",
    "X_test_tf = tf.transform(X_test)"
   ]
  },
  {
   "cell_type": "markdown",
   "metadata": {},
   "source": [
    "Between TF-IDF and CrossVal, we get a better score with TF-IDF. \n",
    "\n",
    "However, I'm going to compare/contrast the differences in my models if I use CrossVal or TF-IDF, just to see what actually happens within each model. "
   ]
  },
  {
   "cell_type": "markdown",
   "metadata": {},
   "source": [
    "<a id='log'></a>\n",
    "# Logistic Regression"
   ]
  },
  {
   "cell_type": "code",
   "execution_count": 55,
   "metadata": {},
   "outputs": [
    {
     "name": "stderr",
     "output_type": "stream",
     "text": [
      "/Users/maithilijoshi/anaconda3/lib/python3.6/site-packages/sklearn/linear_model/logistic.py:433: FutureWarning: Default solver will be changed to 'lbfgs' in 0.22. Specify a solver to silence this warning.\n",
      "  FutureWarning)\n",
      "/Users/maithilijoshi/anaconda3/lib/python3.6/site-packages/sklearn/linear_model/logistic.py:433: FutureWarning: Default solver will be changed to 'lbfgs' in 0.22. Specify a solver to silence this warning.\n",
      "  FutureWarning)\n",
      "/Users/maithilijoshi/anaconda3/lib/python3.6/site-packages/sklearn/linear_model/logistic.py:433: FutureWarning: Default solver will be changed to 'lbfgs' in 0.22. Specify a solver to silence this warning.\n",
      "  FutureWarning)\n",
      "/Users/maithilijoshi/anaconda3/lib/python3.6/site-packages/sklearn/linear_model/logistic.py:433: FutureWarning: Default solver will be changed to 'lbfgs' in 0.22. Specify a solver to silence this warning.\n",
      "  FutureWarning)\n",
      "/Users/maithilijoshi/anaconda3/lib/python3.6/site-packages/sklearn/linear_model/logistic.py:433: FutureWarning: Default solver will be changed to 'lbfgs' in 0.22. Specify a solver to silence this warning.\n",
      "  FutureWarning)\n"
     ]
    },
    {
     "name": "stdout",
     "output_type": "stream",
     "text": [
      "CV score LogReg: 0.7623563622719385\n",
      "Training accuracy LogReg: 0.8913676042677012\n",
      "Testing accuracy LogReg: 0.752906976744186\n"
     ]
    },
    {
     "name": "stderr",
     "output_type": "stream",
     "text": [
      "/Users/maithilijoshi/anaconda3/lib/python3.6/site-packages/sklearn/linear_model/logistic.py:433: FutureWarning: Default solver will be changed to 'lbfgs' in 0.22. Specify a solver to silence this warning.\n",
      "  FutureWarning)\n"
     ]
    }
   ],
   "source": [
    "#penalty at l1\n",
    "# Instantiate model\n",
    "logreg = LogisticRegression(penalty = 'l1')\n",
    "\n",
    "# Fit on training data.\n",
    "logreg.fit(X_train_cv, y_train)\n",
    "\n",
    "# Get scores\n",
    "print('CV score LogReg:', cross_val_score(logreg, X_train_cv, y_train, cv=5).mean())\n",
    "print('Training accuracy LogReg:', logreg.score(X_train_cv, y_train))\n",
    "print('Testing accuracy LogReg:', logreg.score(X_test_cv, y_test))"
   ]
  },
  {
   "cell_type": "code",
   "execution_count": 56,
   "metadata": {},
   "outputs": [
    {
     "name": "stderr",
     "output_type": "stream",
     "text": [
      "/Users/maithilijoshi/anaconda3/lib/python3.6/site-packages/sklearn/linear_model/logistic.py:433: FutureWarning: Default solver will be changed to 'lbfgs' in 0.22. Specify a solver to silence this warning.\n",
      "  FutureWarning)\n",
      "/Users/maithilijoshi/anaconda3/lib/python3.6/site-packages/sklearn/linear_model/logistic.py:433: FutureWarning: Default solver will be changed to 'lbfgs' in 0.22. Specify a solver to silence this warning.\n",
      "  FutureWarning)\n",
      "/Users/maithilijoshi/anaconda3/lib/python3.6/site-packages/sklearn/linear_model/logistic.py:433: FutureWarning: Default solver will be changed to 'lbfgs' in 0.22. Specify a solver to silence this warning.\n",
      "  FutureWarning)\n",
      "/Users/maithilijoshi/anaconda3/lib/python3.6/site-packages/sklearn/linear_model/logistic.py:433: FutureWarning: Default solver will be changed to 'lbfgs' in 0.22. Specify a solver to silence this warning.\n",
      "  FutureWarning)\n",
      "/Users/maithilijoshi/anaconda3/lib/python3.6/site-packages/sklearn/linear_model/logistic.py:433: FutureWarning: Default solver will be changed to 'lbfgs' in 0.22. Specify a solver to silence this warning.\n",
      "  FutureWarning)\n",
      "/Users/maithilijoshi/anaconda3/lib/python3.6/site-packages/sklearn/linear_model/logistic.py:433: FutureWarning: Default solver will be changed to 'lbfgs' in 0.22. Specify a solver to silence this warning.\n",
      "  FutureWarning)\n"
     ]
    },
    {
     "name": "stdout",
     "output_type": "stream",
     "text": [
      "CV score LogReg: 0.7924346888044651\n",
      "Training accuracy LogReg: 0.9961202715809894\n",
      "Testing accuracy LogReg: 0.8168604651162791\n"
     ]
    }
   ],
   "source": [
    "#penalty at l2\n",
    "# Instantiate model\n",
    "logreg = LogisticRegression(penalty = 'l2')\n",
    "\n",
    "# Fit on training data.\n",
    "logreg.fit(X_train_cv, y_train)\n",
    "\n",
    "# Get scores\n",
    "print('CV score LogReg:', cross_val_score(logreg, X_train_cv, y_train, cv=5).mean())\n",
    "print('Training accuracy LogReg:', logreg.score(X_train_cv, y_train))\n",
    "print('Testing accuracy LogReg:', logreg.score(X_test_cv, y_test))"
   ]
  },
  {
   "cell_type": "markdown",
   "metadata": {},
   "source": [
    "<a id='naive-cv'></a>\n",
    "# Naive Bayes CV (Multinomial)"
   ]
  },
  {
   "cell_type": "markdown",
   "metadata": {},
   "source": [
    "If i have time, I'll take a look at the alpha's and see what gives me the optimal score. I'm not positive this will be necessary since I already have pretty good accuracy scores. "
   ]
  },
  {
   "cell_type": "code",
   "execution_count": 57,
   "metadata": {},
   "outputs": [],
   "source": [
    "#Bag of words\n",
    "train_corpus = X_train\n",
    "test_corpus = X_test\n",
    "\n",
    "# Instantiate a CountVectorizer\n",
    "cvec_mult = CountVectorizer(stop_words='english', ngram_range = (2,2))\n",
    "\n",
    "# Fit the vectorizer on our corpus\n",
    "cvec_mult.fit(train_corpus)\n",
    "#Set X_train\n",
    "X_train_mult = cvec_mult.transform(train_corpus)\n",
    "X_test_mult = cvec_mult.transform(test_corpus)\n",
    "\n",
    "#CountVectorizer(ngram_range = (2,2)).fit(train_corpus).get_feature_names()\n",
    "\n",
    "#Dataframe of bag of words at ngrams 2,2\n",
    "X_train_cvec_2 = pd.DataFrame(X_train_mult.todense(), columns=cvec_mult.get_feature_names())\n",
    "X_test_cvec_2 = pd.DataFrame(X_test_mult.todense(), columns=cvec_mult.get_feature_names())"
   ]
  },
  {
   "cell_type": "code",
   "execution_count": 58,
   "metadata": {},
   "outputs": [
    {
     "name": "stdout",
     "output_type": "stream",
     "text": [
      "0.39282250242483024\n",
      "{'alpha': 0.01}\n"
     ]
    }
   ],
   "source": [
    "# Instantiate model\n",
    "mult_hyper = MultinomialNB()\n",
    "\n",
    "# Set model params for GridSearch\n",
    "mult_params = {\n",
    "    'alpha':[0.05, 0.01, 0.1]\n",
    "}\n",
    "\n",
    "# Do GridSearch\n",
    "gs = GridSearchCV(mult_hyper, param_grid=mult_params, cv=5)\n",
    "gs.fit(X_train_cvec_2, y_train)\n",
    "print(gs.best_score_)\n",
    "print(gs.best_params_)"
   ]
  },
  {
   "cell_type": "code",
   "execution_count": 59,
   "metadata": {},
   "outputs": [
    {
     "name": "stdout",
     "output_type": "stream",
     "text": [
      "CV score Naive Bayes & Count Vectorizer: 0.3928286665728625\n",
      "Training accuracy Naive Bayes & Count Vectorizer: 0.9990300678952473\n",
      "Testing accuracy Naive Bayes & Count Vectorizer: 0.7790697674418605\n"
     ]
    }
   ],
   "source": [
    "#Set up multinomial model with CV\n",
    "mult = MultinomialNB(alpha = 0.01)\n",
    "\n",
    "mult_model = mult.fit(X_train_cvec_2, y_train)\n",
    "\n",
    "# Get scores\n",
    "print('CV score Naive Bayes & Count Vectorizer:', cross_val_score(mult, X_train_cvec_2, y_train, cv=5).mean())\n",
    "print('Training accuracy Naive Bayes & Count Vectorizer:', mult.score(X_train_cvec_2, y_train))\n",
    "print('Testing accuracy Naive Bayes & Count Vectorizer:', mult.score(X_test_cvec_2, y_test))"
   ]
  },
  {
   "cell_type": "markdown",
   "metadata": {},
   "source": [
    "<a id='naive-tf'></a>\n",
    "# Naive Bayes with TF-IDF"
   ]
  },
  {
   "cell_type": "code",
   "execution_count": 60,
   "metadata": {},
   "outputs": [],
   "source": [
    "#Bag of words\n",
    "train_corpus = X_train\n",
    "test_corpus = X_test\n",
    "\n",
    "# Instantiate a TF-IDF\n",
    "tf_mult = TfidfVectorizer(ngram_range=(2,2), max_features=900, stop_words='english')\n",
    "\n",
    "# Fit the vectorizer on our corpus\n",
    "tf_mult.fit(train_corpus)\n",
    "#Set X_train\n",
    "X_train_mult_tf = tf_mult.transform(train_corpus)\n",
    "X_test_mult_tf = tf_mult.transform(test_corpus)\n",
    "\n",
    "#CountVectorizer(ngram_range = (2,2)).fit(train_corpus).get_feature_names()\n",
    "\n",
    "#Dataframe of bag of words at ngrams 2,2\n",
    "X_train_tf_2 = pd.DataFrame(X_train_mult_tf.todense(), columns=tf_mult.get_feature_names())\n",
    "X_test_tf_2 = pd.DataFrame(X_test_mult_tf.todense(), columns=tf_mult.get_feature_names())"
   ]
  },
  {
   "cell_type": "code",
   "execution_count": 61,
   "metadata": {},
   "outputs": [
    {
     "name": "stdout",
     "output_type": "stream",
     "text": [
      "0.7032007759456838\n",
      "{'alpha': 0.1}\n"
     ]
    }
   ],
   "source": [
    "# Instantiate model\n",
    "mult_hyper_tf = MultinomialNB()\n",
    "\n",
    "# Set model params for GridSearch\n",
    "mult_params_tf = {\n",
    "    'alpha':[0.05, 0.01, 0.1]\n",
    "}\n",
    "\n",
    "# Do GridSearch\n",
    "gs = GridSearchCV(mult_hyper_tf, param_grid=mult_params_tf, cv=5)\n",
    "gs.fit(X_train_tf_2, y_train)\n",
    "print(gs.best_score_)\n",
    "print(gs.best_params_)"
   ]
  },
  {
   "cell_type": "code",
   "execution_count": 62,
   "metadata": {},
   "outputs": [
    {
     "name": "stdout",
     "output_type": "stream",
     "text": [
      "CV score Naive Bayes & TF-IDF: 0.7031893438394071\n",
      "Training accuracy Naive Bayes & TF-IDF: 0.8816682832201745\n",
      "Testing accuracy Naive Bayes & TF-IDF: 0.7441860465116279\n"
     ]
    }
   ],
   "source": [
    "mult_tvec = MultinomialNB(alpha = 0.1)\n",
    "\n",
    "# Fit model\n",
    "mult_tvec.fit(X_train_tf_2, y_train)\n",
    "\n",
    "print('CV score Naive Bayes & TF-IDF:', cross_val_score(mult_tvec, X_train_tf_2, y_train, cv=5).mean())\n",
    "print('Training accuracy Naive Bayes & TF-IDF:', mult_tvec.score(X_train_tf_2, y_train))\n",
    "print('Testing accuracy Naive Bayes & TF-IDF:', mult_tvec.score(X_test_tf_2, y_test)) "
   ]
  },
  {
   "cell_type": "code",
   "execution_count": 94,
   "metadata": {},
   "outputs": [],
   "source": [
    "coef = mult_tvec.coef_"
   ]
  },
  {
   "cell_type": "code",
   "execution_count": 198,
   "metadata": {
    "scrolled": false
   },
   "outputs": [
    {
     "data": {
      "text/html": [
       "<div>\n",
       "<style scoped>\n",
       "    .dataframe tbody tr th:only-of-type {\n",
       "        vertical-align: middle;\n",
       "    }\n",
       "\n",
       "    .dataframe tbody tr th {\n",
       "        vertical-align: top;\n",
       "    }\n",
       "\n",
       "    .dataframe thead th {\n",
       "        text-align: right;\n",
       "    }\n",
       "</style>\n",
       "<table border=\"1\" class=\"dataframe\">\n",
       "  <thead>\n",
       "    <tr style=\"text-align: right;\">\n",
       "      <th></th>\n",
       "      <th>words</th>\n",
       "      <th>coef</th>\n",
       "    </tr>\n",
       "  </thead>\n",
       "  <tbody>\n",
       "    <tr>\n",
       "      <th>449</th>\n",
       "      <td>placing new</td>\n",
       "      <td>-8.147367</td>\n",
       "    </tr>\n",
       "    <tr>\n",
       "      <th>548</th>\n",
       "      <td>powerpoint company</td>\n",
       "      <td>-8.147367</td>\n",
       "    </tr>\n",
       "    <tr>\n",
       "      <th>549</th>\n",
       "      <td>powerpoint opened</td>\n",
       "      <td>-8.147367</td>\n",
       "    </tr>\n",
       "    <tr>\n",
       "      <th>550</th>\n",
       "      <td>pr nightmare</td>\n",
       "      <td>-8.147367</td>\n",
       "    </tr>\n",
       "    <tr>\n",
       "      <th>551</th>\n",
       "      <td>pr stunt</td>\n",
       "      <td>-8.147367</td>\n",
       "    </tr>\n",
       "    <tr>\n",
       "      <th>552</th>\n",
       "      <td>precious time</td>\n",
       "      <td>-8.147367</td>\n",
       "    </tr>\n",
       "    <tr>\n",
       "      <th>553</th>\n",
       "      <td>president cathartic</td>\n",
       "      <td>-8.147367</td>\n",
       "    </tr>\n",
       "    <tr>\n",
       "      <th>554</th>\n",
       "      <td>president invasion</td>\n",
       "      <td>-8.147367</td>\n",
       "    </tr>\n",
       "    <tr>\n",
       "      <th>555</th>\n",
       "      <td>president jared</td>\n",
       "      <td>-8.147367</td>\n",
       "    </tr>\n",
       "    <tr>\n",
       "      <th>556</th>\n",
       "      <td>president standing</td>\n",
       "      <td>-8.147367</td>\n",
       "    </tr>\n",
       "    <tr>\n",
       "      <th>557</th>\n",
       "      <td>president statue</td>\n",
       "      <td>-8.147367</td>\n",
       "    </tr>\n",
       "    <tr>\n",
       "      <th>558</th>\n",
       "      <td>president style</td>\n",
       "      <td>-8.147367</td>\n",
       "    </tr>\n",
       "    <tr>\n",
       "      <th>559</th>\n",
       "      <td>president ve</td>\n",
       "      <td>-8.147367</td>\n",
       "    </tr>\n",
       "    <tr>\n",
       "      <th>560</th>\n",
       "      <td>presidential candidate</td>\n",
       "      <td>-8.147367</td>\n",
       "    </tr>\n",
       "    <tr>\n",
       "      <th>561</th>\n",
       "      <td>presidential material</td>\n",
       "      <td>-8.147367</td>\n",
       "    </tr>\n",
       "    <tr>\n",
       "      <th>562</th>\n",
       "      <td>presidential pardon</td>\n",
       "      <td>-8.147367</td>\n",
       "    </tr>\n",
       "    <tr>\n",
       "      <th>563</th>\n",
       "      <td>pride parade</td>\n",
       "      <td>-8.147367</td>\n",
       "    </tr>\n",
       "    <tr>\n",
       "      <th>565</th>\n",
       "      <td>pros cons</td>\n",
       "      <td>-8.147367</td>\n",
       "    </tr>\n",
       "    <tr>\n",
       "      <th>566</th>\n",
       "      <td>public health</td>\n",
       "      <td>-8.147367</td>\n",
       "    </tr>\n",
       "    <tr>\n",
       "      <th>567</th>\n",
       "      <td>publishing job</td>\n",
       "      <td>-8.147367</td>\n",
       "    </tr>\n",
       "    <tr>\n",
       "      <th>546</th>\n",
       "      <td>powerful soprano</td>\n",
       "      <td>-8.147367</td>\n",
       "    </tr>\n",
       "    <tr>\n",
       "      <th>544</th>\n",
       "      <td>power women</td>\n",
       "      <td>-8.147367</td>\n",
       "    </tr>\n",
       "    <tr>\n",
       "      <th>543</th>\n",
       "      <td>power strip</td>\n",
       "      <td>-8.147367</td>\n",
       "    </tr>\n",
       "    <tr>\n",
       "      <th>542</th>\n",
       "      <td>power people</td>\n",
       "      <td>-8.147367</td>\n",
       "    </tr>\n",
       "    <tr>\n",
       "      <th>501</th>\n",
       "      <td>pointing rifle</td>\n",
       "      <td>-8.147367</td>\n",
       "    </tr>\n",
       "    <tr>\n",
       "      <th>502</th>\n",
       "      <td>points time</td>\n",
       "      <td>-8.147367</td>\n",
       "    </tr>\n",
       "    <tr>\n",
       "      <th>503</th>\n",
       "      <td>points work</td>\n",
       "      <td>-8.147367</td>\n",
       "    </tr>\n",
       "    <tr>\n",
       "      <th>508</th>\n",
       "      <td>pole vaulter</td>\n",
       "      <td>-8.147367</td>\n",
       "    </tr>\n",
       "    <tr>\n",
       "      <th>509</th>\n",
       "      <td>police academy</td>\n",
       "      <td>-8.147367</td>\n",
       "    </tr>\n",
       "    <tr>\n",
       "      <th>511</th>\n",
       "      <td>police car</td>\n",
       "      <td>-8.147367</td>\n",
       "    </tr>\n",
       "    <tr>\n",
       "      <th>...</th>\n",
       "      <td>...</td>\n",
       "      <td>...</td>\n",
       "    </tr>\n",
       "    <tr>\n",
       "      <th>843</th>\n",
       "      <td>swamp creature</td>\n",
       "      <td>-5.527741</td>\n",
       "    </tr>\n",
       "    <tr>\n",
       "      <th>189</th>\n",
       "      <td>man arrested</td>\n",
       "      <td>-5.476934</td>\n",
       "    </tr>\n",
       "    <tr>\n",
       "      <th>182</th>\n",
       "      <td>leggings sparks</td>\n",
       "      <td>-5.457522</td>\n",
       "    </tr>\n",
       "    <tr>\n",
       "      <th>849</th>\n",
       "      <td>tech n9ne</td>\n",
       "      <td>-5.457522</td>\n",
       "    </tr>\n",
       "    <tr>\n",
       "      <th>13</th>\n",
       "      <td>alaska man</td>\n",
       "      <td>-5.372091</td>\n",
       "    </tr>\n",
       "    <tr>\n",
       "      <th>91</th>\n",
       "      <td>elon musk</td>\n",
       "      <td>-5.340858</td>\n",
       "    </tr>\n",
       "    <tr>\n",
       "      <th>171</th>\n",
       "      <td>kentucky man</td>\n",
       "      <td>-5.340858</td>\n",
       "    </tr>\n",
       "    <tr>\n",
       "      <th>39</th>\n",
       "      <td>box office</td>\n",
       "      <td>-5.264541</td>\n",
       "    </tr>\n",
       "    <tr>\n",
       "      <th>128</th>\n",
       "      <td>gop lawmaker</td>\n",
       "      <td>-5.264541</td>\n",
       "    </tr>\n",
       "    <tr>\n",
       "      <th>38</th>\n",
       "      <td>boeing 737</td>\n",
       "      <td>-5.264541</td>\n",
       "    </tr>\n",
       "    <tr>\n",
       "      <th>26</th>\n",
       "      <td>arrests fugitive</td>\n",
       "      <td>-5.264541</td>\n",
       "    </tr>\n",
       "    <tr>\n",
       "      <th>44</th>\n",
       "      <td>bullying case</td>\n",
       "      <td>-5.253055</td>\n",
       "    </tr>\n",
       "    <tr>\n",
       "      <th>8</th>\n",
       "      <td>8m bullying</td>\n",
       "      <td>-5.253055</td>\n",
       "    </tr>\n",
       "    <tr>\n",
       "      <th>139</th>\n",
       "      <td>having sex</td>\n",
       "      <td>-5.110348</td>\n",
       "    </tr>\n",
       "    <tr>\n",
       "      <th>176</th>\n",
       "      <td>lake district</td>\n",
       "      <td>-5.102845</td>\n",
       "    </tr>\n",
       "    <tr>\n",
       "      <th>188</th>\n",
       "      <td>man allegedly</td>\n",
       "      <td>-5.102845</td>\n",
       "    </tr>\n",
       "    <tr>\n",
       "      <th>5</th>\n",
       "      <td>20 years</td>\n",
       "      <td>-5.102845</td>\n",
       "    </tr>\n",
       "    <tr>\n",
       "      <th>31</th>\n",
       "      <td>bangladesh mother</td>\n",
       "      <td>-5.102845</td>\n",
       "    </tr>\n",
       "    <tr>\n",
       "      <th>615</th>\n",
       "      <td>rabbi funeral</td>\n",
       "      <td>-5.102845</td>\n",
       "    </tr>\n",
       "    <tr>\n",
       "      <th>102</th>\n",
       "      <td>fart bully</td>\n",
       "      <td>-5.102845</td>\n",
       "    </tr>\n",
       "    <tr>\n",
       "      <th>61</th>\n",
       "      <td>climate change</td>\n",
       "      <td>-5.102845</td>\n",
       "    </tr>\n",
       "    <tr>\n",
       "      <th>192</th>\n",
       "      <td>market basket</td>\n",
       "      <td>-5.102845</td>\n",
       "    </tr>\n",
       "    <tr>\n",
       "      <th>17</th>\n",
       "      <td>angry white</td>\n",
       "      <td>-5.102845</td>\n",
       "    </tr>\n",
       "    <tr>\n",
       "      <th>195</th>\n",
       "      <td>mexico border</td>\n",
       "      <td>-5.102845</td>\n",
       "    </tr>\n",
       "    <tr>\n",
       "      <th>827</th>\n",
       "      <td>spicy chips</td>\n",
       "      <td>-5.102845</td>\n",
       "    </tr>\n",
       "    <tr>\n",
       "      <th>22</th>\n",
       "      <td>ar 15</td>\n",
       "      <td>-5.102845</td>\n",
       "    </tr>\n",
       "    <tr>\n",
       "      <th>842</th>\n",
       "      <td>supreme court</td>\n",
       "      <td>-5.030111</td>\n",
       "    </tr>\n",
       "    <tr>\n",
       "      <th>519</th>\n",
       "      <td>police say</td>\n",
       "      <td>-4.999865</td>\n",
       "    </tr>\n",
       "    <tr>\n",
       "      <th>799</th>\n",
       "      <td>russian man</td>\n",
       "      <td>-4.952176</td>\n",
       "    </tr>\n",
       "    <tr>\n",
       "      <th>895</th>\n",
       "      <td>year old</td>\n",
       "      <td>-4.355409</td>\n",
       "    </tr>\n",
       "  </tbody>\n",
       "</table>\n",
       "<p>900 rows × 2 columns</p>\n",
       "</div>"
      ],
      "text/plain": [
       "                      words      coef\n",
       "449             placing new -8.147367\n",
       "548      powerpoint company -8.147367\n",
       "549       powerpoint opened -8.147367\n",
       "550            pr nightmare -8.147367\n",
       "551                pr stunt -8.147367\n",
       "552           precious time -8.147367\n",
       "553     president cathartic -8.147367\n",
       "554      president invasion -8.147367\n",
       "555         president jared -8.147367\n",
       "556      president standing -8.147367\n",
       "557        president statue -8.147367\n",
       "558         president style -8.147367\n",
       "559            president ve -8.147367\n",
       "560  presidential candidate -8.147367\n",
       "561   presidential material -8.147367\n",
       "562     presidential pardon -8.147367\n",
       "563            pride parade -8.147367\n",
       "565               pros cons -8.147367\n",
       "566           public health -8.147367\n",
       "567          publishing job -8.147367\n",
       "546        powerful soprano -8.147367\n",
       "544             power women -8.147367\n",
       "543             power strip -8.147367\n",
       "542            power people -8.147367\n",
       "501          pointing rifle -8.147367\n",
       "502             points time -8.147367\n",
       "503             points work -8.147367\n",
       "508            pole vaulter -8.147367\n",
       "509          police academy -8.147367\n",
       "511              police car -8.147367\n",
       "..                      ...       ...\n",
       "843          swamp creature -5.527741\n",
       "189            man arrested -5.476934\n",
       "182         leggings sparks -5.457522\n",
       "849               tech n9ne -5.457522\n",
       "13               alaska man -5.372091\n",
       "91                elon musk -5.340858\n",
       "171            kentucky man -5.340858\n",
       "39               box office -5.264541\n",
       "128            gop lawmaker -5.264541\n",
       "38               boeing 737 -5.264541\n",
       "26         arrests fugitive -5.264541\n",
       "44            bullying case -5.253055\n",
       "8               8m bullying -5.253055\n",
       "139              having sex -5.110348\n",
       "176           lake district -5.102845\n",
       "188           man allegedly -5.102845\n",
       "5                  20 years -5.102845\n",
       "31        bangladesh mother -5.102845\n",
       "615           rabbi funeral -5.102845\n",
       "102              fart bully -5.102845\n",
       "61           climate change -5.102845\n",
       "192           market basket -5.102845\n",
       "17              angry white -5.102845\n",
       "195           mexico border -5.102845\n",
       "827             spicy chips -5.102845\n",
       "22                    ar 15 -5.102845\n",
       "842           supreme court -5.030111\n",
       "519              police say -4.999865\n",
       "799             russian man -4.952176\n",
       "895                year old -4.355409\n",
       "\n",
       "[900 rows x 2 columns]"
      ]
     },
     "execution_count": 198,
     "metadata": {},
     "output_type": "execute_result"
    }
   ],
   "source": [
    "coefs_df = pd.DataFrame(coef, \n",
    "                        columns=[tf_mult.get_feature_names()]).T\n",
    "\n",
    "coefs_df = coefs_df.reset_index()\n",
    "coefs_df = coefs_df.rename(columns = {'level_0':'words', 0: 'coef'})\n",
    "\n",
    "coefs_df.sort_values(by = 'coef')"
   ]
  },
  {
   "cell_type": "code",
   "execution_count": 199,
   "metadata": {},
   "outputs": [
    {
     "data": {
      "text/html": [
       "<div>\n",
       "<style scoped>\n",
       "    .dataframe tbody tr th:only-of-type {\n",
       "        vertical-align: middle;\n",
       "    }\n",
       "\n",
       "    .dataframe tbody tr th {\n",
       "        vertical-align: top;\n",
       "    }\n",
       "\n",
       "    .dataframe thead th {\n",
       "        text-align: right;\n",
       "    }\n",
       "</style>\n",
       "<table border=\"1\" class=\"dataframe\">\n",
       "  <thead>\n",
       "    <tr style=\"text-align: right;\">\n",
       "      <th></th>\n",
       "      <th>0</th>\n",
       "    </tr>\n",
       "  </thead>\n",
       "  <tbody>\n",
       "    <tr>\n",
       "      <th>000 000</th>\n",
       "      <td>-5.749472</td>\n",
       "    </tr>\n",
       "    <tr>\n",
       "      <th>000 years</th>\n",
       "      <td>-5.749472</td>\n",
       "    </tr>\n",
       "    <tr>\n",
       "      <th>12 year</th>\n",
       "      <td>-6.364700</td>\n",
       "    </tr>\n",
       "    <tr>\n",
       "      <th>13 year</th>\n",
       "      <td>-8.147367</td>\n",
       "    </tr>\n",
       "    <tr>\n",
       "      <th>150 staff</th>\n",
       "      <td>-6.059081</td>\n",
       "    </tr>\n",
       "    <tr>\n",
       "      <th>20 years</th>\n",
       "      <td>-5.102845</td>\n",
       "    </tr>\n",
       "    <tr>\n",
       "      <th>37 water</th>\n",
       "      <td>-8.147367</td>\n",
       "    </tr>\n",
       "    <tr>\n",
       "      <th>750 000</th>\n",
       "      <td>-8.147367</td>\n",
       "    </tr>\n",
       "    <tr>\n",
       "      <th>8m bullying</th>\n",
       "      <td>-5.253055</td>\n",
       "    </tr>\n",
       "    <tr>\n",
       "      <th>abrams state</th>\n",
       "      <td>-8.147367</td>\n",
       "    </tr>\n",
       "  </tbody>\n",
       "</table>\n",
       "</div>"
      ],
      "text/plain": [
       "                     0\n",
       "000 000      -5.749472\n",
       "000 years    -5.749472\n",
       "12 year      -6.364700\n",
       "13 year      -8.147367\n",
       "150 staff    -6.059081\n",
       "20 years     -5.102845\n",
       "37 water     -8.147367\n",
       "750 000      -8.147367\n",
       "8m bullying  -5.253055\n",
       "abrams state -8.147367"
      ]
     },
     "execution_count": 199,
     "metadata": {},
     "output_type": "execute_result"
    }
   ],
   "source": [
    "coefs.head(10)"
   ]
  },
  {
   "cell_type": "markdown",
   "metadata": {},
   "source": [
    "<a id='forests-cv'></a>\n",
    "# Random Forests CV"
   ]
  },
  {
   "cell_type": "code",
   "execution_count": 66,
   "metadata": {},
   "outputs": [
    {
     "name": "stdout",
     "output_type": "stream",
     "text": [
      "0.7487875848690592\n",
      "{'max_depth': 200, 'max_features': 25, 'n_estimators': 20}\n"
     ]
    }
   ],
   "source": [
    "# Instantiate model\n",
    "rf = RandomForestClassifier(random_state=42)\n",
    "\n",
    "# Set model params for GridSearch\n",
    "rf_params = {\n",
    "    'n_estimators': [15, 20, 25],\n",
    "    'max_depth': [200, 250, 300],\n",
    "    'max_features': [20, 25, 50]\n",
    "}\n",
    "\n",
    "# Do GridSearch\n",
    "gs = GridSearchCV(rf, param_grid=rf_params, cv=5)\n",
    "gs.fit(X_train_cv, y_train)\n",
    "print(gs.best_score_)\n",
    "print(gs.best_params_)"
   ]
  },
  {
   "cell_type": "code",
   "execution_count": 67,
   "metadata": {
    "scrolled": true
   },
   "outputs": [
    {
     "name": "stdout",
     "output_type": "stream",
     "text": [
      "CV score Random Forest & Count Vectorizer: 0.7400778575113738\n",
      "Training accuracy Random Forest & Count Vectorizer: 0.9951503394762367\n",
      "Testing accuracy Random Forest & Count Vectorizer: 0.752906976744186\n"
     ]
    }
   ],
   "source": [
    "# Instantiate model\n",
    "rf_cv = RandomForestClassifier(max_depth = 200, n_estimators=25, \n",
    "                               max_features=50, random_state=42)\n",
    "\n",
    "# Fit model\n",
    "rf_cv.fit(X_train_cv, y_train)\n",
    "\n",
    "# Get scores\n",
    "print('CV score Random Forest & Count Vectorizer:', cross_val_score(rf_cv, X_train_cv, y_train, cv=5).mean())\n",
    "print('Training accuracy Random Forest & Count Vectorizer:', rf_cv.score(X_train_cv, y_train))\n",
    "print('Testing accuracy Random Forest & Count Vectorizer:', rf_cv.score(X_test_cv, y_test))"
   ]
  },
  {
   "cell_type": "markdown",
   "metadata": {},
   "source": [
    "<a id='forests-tf'></a>\n",
    "# Random Forests TF-IDF"
   ]
  },
  {
   "cell_type": "code",
   "execution_count": 68,
   "metadata": {},
   "outputs": [
    {
     "name": "stdout",
     "output_type": "stream",
     "text": [
      "CV score Random Forest & TF-IDF: 0.7575160639744853\n",
      "Training accuracy Random Forest & TF-IDF: 0.988360814742968\n",
      "Testing accuracy Random Forest & TF-IDF: 0.7674418604651163\n"
     ]
    }
   ],
   "source": [
    "#Instantiating TF-IDF\n",
    "tf_rf = TfidfVectorizer(ngram_range=(1,1), max_features=900, stop_words='english')\n",
    "\n",
    "# Fit the vectorizer on our corpus and transform\n",
    "X_train_rf = tf_rf.fit_transform(X_train).toarray()\n",
    "\n",
    "# Transform the test set\n",
    "X_test_rf = tf_rf.transform(X_test)\n",
    "\n",
    "rf_tvec = RandomForestClassifier(max_depth = 200, n_estimators=20, \n",
    "                                 max_features=50, random_state=42)\n",
    "\n",
    "rf_tvec.fit(X_train_tf, y_train)\n",
    "\n",
    "\n",
    "# Get scores\n",
    "print('CV score Random Forest & TF-IDF:', cross_val_score(rf_tvec, X_train_rf, y_train, cv=5).mean())\n",
    "print('Training accuracy Random Forest & TF-IDF:', rf_tvec.score(X_train_rf, y_train))\n",
    "print('Testing accuracy Random Forest & TF-IDF:', rf_tvec.score(X_test_rf, y_test))"
   ]
  },
  {
   "cell_type": "markdown",
   "metadata": {},
   "source": [
    "<a id='best'></a>\n",
    "# Best Performing Model: "
   ]
  },
  {
   "cell_type": "code",
   "execution_count": 69,
   "metadata": {
    "scrolled": false
   },
   "outputs": [
    {
     "name": "stdout",
     "output_type": "stream",
     "text": [
      "CV score LogReg Lasso: 0.7924\n"
     ]
    },
    {
     "name": "stderr",
     "output_type": "stream",
     "text": [
      "/Users/maithilijoshi/anaconda3/lib/python3.6/site-packages/sklearn/linear_model/logistic.py:433: FutureWarning: Default solver will be changed to 'lbfgs' in 0.22. Specify a solver to silence this warning.\n",
      "  FutureWarning)\n",
      "/Users/maithilijoshi/anaconda3/lib/python3.6/site-packages/sklearn/linear_model/logistic.py:433: FutureWarning: Default solver will be changed to 'lbfgs' in 0.22. Specify a solver to silence this warning.\n",
      "  FutureWarning)\n",
      "/Users/maithilijoshi/anaconda3/lib/python3.6/site-packages/sklearn/linear_model/logistic.py:433: FutureWarning: Default solver will be changed to 'lbfgs' in 0.22. Specify a solver to silence this warning.\n",
      "  FutureWarning)\n",
      "/Users/maithilijoshi/anaconda3/lib/python3.6/site-packages/sklearn/linear_model/logistic.py:433: FutureWarning: Default solver will be changed to 'lbfgs' in 0.22. Specify a solver to silence this warning.\n",
      "  FutureWarning)\n",
      "/Users/maithilijoshi/anaconda3/lib/python3.6/site-packages/sklearn/linear_model/logistic.py:433: FutureWarning: Default solver will be changed to 'lbfgs' in 0.22. Specify a solver to silence this warning.\n",
      "  FutureWarning)\n",
      "/Users/maithilijoshi/anaconda3/lib/python3.6/site-packages/sklearn/linear_model/logistic.py:433: FutureWarning: Default solver will be changed to 'lbfgs' in 0.22. Specify a solver to silence this warning.\n",
      "  FutureWarning)\n"
     ]
    },
    {
     "name": "stdout",
     "output_type": "stream",
     "text": [
      "Training accuracy LogReg Lasso: 0.9961\n",
      "Testing accuracy LogReg Lasso: 0.8169\n",
      "--------------------------------------------------\n",
      "CV score LogReg Ridge: 0.7924\n",
      "Training accuracy LogReg Ridge: 0.9961\n",
      "Testing accuracy LogReg Ridge: 0.8169\n",
      "--------------------------------------------------\n"
     ]
    },
    {
     "name": "stderr",
     "output_type": "stream",
     "text": [
      "/Users/maithilijoshi/anaconda3/lib/python3.6/site-packages/sklearn/linear_model/logistic.py:433: FutureWarning: Default solver will be changed to 'lbfgs' in 0.22. Specify a solver to silence this warning.\n",
      "  FutureWarning)\n",
      "/Users/maithilijoshi/anaconda3/lib/python3.6/site-packages/sklearn/linear_model/logistic.py:433: FutureWarning: Default solver will be changed to 'lbfgs' in 0.22. Specify a solver to silence this warning.\n",
      "  FutureWarning)\n",
      "/Users/maithilijoshi/anaconda3/lib/python3.6/site-packages/sklearn/linear_model/logistic.py:433: FutureWarning: Default solver will be changed to 'lbfgs' in 0.22. Specify a solver to silence this warning.\n",
      "  FutureWarning)\n",
      "/Users/maithilijoshi/anaconda3/lib/python3.6/site-packages/sklearn/linear_model/logistic.py:433: FutureWarning: Default solver will be changed to 'lbfgs' in 0.22. Specify a solver to silence this warning.\n",
      "  FutureWarning)\n"
     ]
    },
    {
     "name": "stdout",
     "output_type": "stream",
     "text": [
      "CV score Naive Bayes & Count Vectorizer(Mult): 0.3928286665728625\n",
      "Training accuracy Naive Bayes & Count Vectorizer(Mult): 0.9990300678952473\n",
      "Testing accuracy Naive Bayes & Count Vectorizer (Mult): 0.7790697674418605\n",
      "--------------------------------------------------\n",
      "CV score Naive Bayes & TF-IDF (Mult): 0.7031893438394071\n",
      "Training accuracy Naive Bayes & TF-IDF (Mult): 0.8816682832201745\n",
      "Testing accuracy Naive Bayes & TF-IDF (Mult): 0.7441860465116279\n",
      "--------------------------------------------------\n",
      "CV score Random Forest & Count Vectorizer: 0.7401\n",
      "Training accuracy Random Forest & Count Vectorizer: 0.9951503394762367\n",
      "Testing accuracy Random Forest & Count Vectorizer: 0.7529\n",
      "--------------------------------------------------\n",
      "CV score Random Forest & TF-IDF: 0.7575\n",
      "Training accuracy Random Forest & TF-IDF: 0.988360814742968\n",
      "Testing accuracy Random Forest & TF-IDF: 0.7674418604651163\n"
     ]
    }
   ],
   "source": [
    "#re-printing out all my scores so I can best evaluate which model performed the best below\n",
    "\n",
    "print('CV score LogReg Lasso:', round(cross_val_score(logreg, X_train_cv, y_train, cv=5).mean(), 4))\n",
    "print('Training accuracy LogReg Lasso:', round(logreg.score(X_train_cv, y_train), 4))\n",
    "print('Testing accuracy LogReg Lasso:', round(logreg.score(X_test_cv, y_test), 4))\n",
    "\n",
    "print('--------------------------------------------------')\n",
    "\n",
    "print('CV score LogReg Ridge:', round(cross_val_score(logreg, X_train_cv, y_train, cv=5).mean(), 4))\n",
    "print('Training accuracy LogReg Ridge:', round(logreg.score(X_train_cv, y_train), 4))\n",
    "print('Testing accuracy LogReg Ridge:', round(logreg.score(X_test_cv, y_test), 4))\n",
    "\n",
    "print('--------------------------------------------------')\n",
    "\n",
    "print('CV score Naive Bayes & Count Vectorizer(Mult):', cross_val_score(mult, X_train_cvec_2, y_train, cv=5).mean())\n",
    "print('Training accuracy Naive Bayes & Count Vectorizer(Mult):', mult.score(X_train_cvec_2, y_train))\n",
    "print('Testing accuracy Naive Bayes & Count Vectorizer (Mult):', mult.score(X_test_cvec_2, y_test))\n",
    "\n",
    "print('--------------------------------------------------')\n",
    "\n",
    "print('CV score Naive Bayes & TF-IDF (Mult):', cross_val_score(mult_tvec, X_train_tf_2, y_train, cv=5).mean())\n",
    "print('Training accuracy Naive Bayes & TF-IDF (Mult):', mult_tvec.score(X_train_tf_2, y_train))\n",
    "print('Testing accuracy Naive Bayes & TF-IDF (Mult):', mult_tvec.score(X_test_tf_2, y_test)) \n",
    "\n",
    "print('--------------------------------------------------')\n",
    "\n",
    "print('CV score Random Forest & Count Vectorizer:', round(cross_val_score(rf_cv, X_train_cv, y_train, cv=5).mean(), 4))\n",
    "print('Training accuracy Random Forest & Count Vectorizer:', rf_cv.score(X_train_cv, y_train))\n",
    "print('Testing accuracy Random Forest & Count Vectorizer:', round(rf_cv.score(X_test_cv, y_test), 4))\n",
    "\n",
    "print('--------------------------------------------------')\n",
    "\n",
    "print('CV score Random Forest & TF-IDF:', round(cross_val_score(rf_tvec, X_train_rf, y_train, cv=5).mean(), 4))\n",
    "print('Training accuracy Random Forest & TF-IDF:', rf_tvec.score(X_train_rf, y_train))\n",
    "print('Testing accuracy Random Forest & TF-IDF:', rf_tvec.score(X_test_rf, y_test))"
   ]
  },
  {
   "cell_type": "markdown",
   "metadata": {},
   "source": [
    "**It seems that the best performing model is Naive Bayes with TF-IDF.**"
   ]
  },
  {
   "cell_type": "markdown",
   "metadata": {},
   "source": [
    "<a id='vis'></a>\n",
    "# Visualizations"
   ]
  },
  {
   "cell_type": "code",
   "execution_count": 70,
   "metadata": {
    "scrolled": true
   },
   "outputs": [
    {
     "name": "stdout",
     "output_type": "stream",
     "text": [
      "True Negatives: 243\n",
      "False Positives: 1\n",
      "False Negatives: 87\n",
      "True Positives: 13\n",
      "--------------------\n",
      "Accuracy: 0.7442\n",
      "Specificity: 2.0\n",
      "Sensitivity: 88.0\n",
      "Misclassification: 0.2558\n",
      "Precision: 0.9286\n"
     ]
    }
   ],
   "source": [
    "# Fit model\n",
    "model = mult_tvec.fit(X_train_tf_2, y_train)\n",
    "\n",
    "#Getting predictions\n",
    "predictions = model.predict(X_test_tf_2)\n",
    "\n",
    "from sklearn.metrics import confusion_matrix\n",
    "\n",
    "#Setting up confusion matrix variables\n",
    "tn, fp, fn, tp = confusion_matrix(y_test, predictions).ravel()\n",
    "\n",
    "print(\"True Negatives: %s\" % tn)\n",
    "print(\"False Positives: %s\" % fp)\n",
    "print(\"False Negatives: %s\" % fn)\n",
    "print(\"True Positives: %s\" % tp)\n",
    "print('--------------------')\n",
    "\n",
    "#Accuracy\n",
    "accuracy = round((tp + tn) / (tn + fp + fn + tp), 4)\n",
    "print('Accuracy:', accuracy)\n",
    "\n",
    "#Specificity\n",
    "specificity = tn / tn + fp\n",
    "print('Specificity:', specificity)\n",
    "\n",
    "#Sensitivity\n",
    "sensitivity = tp / tp + fn\n",
    "print('Sensitivity:', sensitivity)\n",
    "\n",
    "#Misclassification Rate\n",
    "misclassification = round((fp + fn)/ (tn + fp + fn + tp), 4)\n",
    "print('Misclassification:', misclassification)\n",
    "\n",
    "#Precision rate\n",
    "precision = round(tp / (fp + tp), 4)\n",
    "\n",
    "print('Precision:', precision)"
   ]
  },
  {
   "cell_type": "markdown",
   "metadata": {},
   "source": [
    "**For the sake of visualization, I'm going to bring back logistic regression to see how well this model actually does.**"
   ]
  },
  {
   "cell_type": "code",
   "execution_count": 71,
   "metadata": {
    "scrolled": true
   },
   "outputs": [
    {
     "name": "stderr",
     "output_type": "stream",
     "text": [
      "/Users/maithilijoshi/anaconda3/lib/python3.6/site-packages/sklearn/linear_model/logistic.py:433: FutureWarning: Default solver will be changed to 'lbfgs' in 0.22. Specify a solver to silence this warning.\n",
      "  FutureWarning)\n"
     ]
    },
    {
     "data": {
      "text/plain": [
       "array([[235,   9],\n",
       "       [ 54,  46]])"
      ]
     },
     "execution_count": 71,
     "metadata": {},
     "output_type": "execute_result"
    }
   ],
   "source": [
    "# Instantiate model\n",
    "logreg = LogisticRegression()\n",
    "\n",
    "# Fit on training data.\n",
    "logreg.fit(X_train_cv, y_train)\n",
    "\n",
    "pred_log = logreg.predict(X_test_cv)\n",
    "\n",
    "confusion_matrix(y_test, pred_log)"
   ]
  },
  {
   "cell_type": "code",
   "execution_count": 72,
   "metadata": {},
   "outputs": [
    {
     "name": "stdout",
     "output_type": "stream",
     "text": [
      "Specificity: 0.9631\n",
      "Sensitivity: 0.46\n"
     ]
    }
   ],
   "source": [
    "tn, fp, fn, tp = confusion_matrix(y_test, pred_log).ravel()\n",
    "\n",
    "sens = tp/(tp+fn)\n",
    "spec = tn/(tn+fp)\n",
    "print(f'Specificity: {round(spec,4)}')\n",
    "print(f'Sensitivity: {round(sens,4)}')"
   ]
  },
  {
   "cell_type": "code",
   "execution_count": 73,
   "metadata": {},
   "outputs": [],
   "source": [
    "pred_proba = [i[1] for i in logreg.predict_proba(X_test_cv)]\n",
    "\n",
    "preds_df = pd.DataFrame({'true_values': y_test,\n",
    "                        'pred_probs':pred_proba})"
   ]
  },
  {
   "cell_type": "code",
   "execution_count": 74,
   "metadata": {
    "scrolled": false
   },
   "outputs": [
    {
     "data": {
      "image/png": "[encoded data removed]",
      "text/plain": [
       "<Figure size 720x504 with 1 Axes>"
      ]
     },
     "metadata": {
      "needs_background": "light"
     },
     "output_type": "display_data"
    }
   ],
   "source": [
    "# Create figure.\n",
    "plt.figure(figsize = (10,7))\n",
    "\n",
    "# Create two histograms of observations.\n",
    "plt.hist(preds_df[preds_df['true_values'] == 0]['pred_probs'],\n",
    "         bins=25,\n",
    "         color='coral',\n",
    "         alpha = 0.6,\n",
    "         label='Outcome = 0')\n",
    "plt.hist(preds_df[preds_df['true_values'] == 1]['pred_probs'],\n",
    "         bins=25,\n",
    "         color='teal',\n",
    "         alpha = 0.6,\n",
    "         label='Outcome = 1')\n",
    "# Add vertical line at P(Outcome = 1) = 0.5.\n",
    "plt.vlines(x=0.2,\n",
    "           ymin = 0,\n",
    "           ymax = 65,\n",
    "           color='r',\n",
    "           linestyle = '--')\n",
    "# Label axes.\n",
    "plt.title('Distribution of P(Outcome = 1)', fontsize=22)\n",
    "plt.ylabel('Frequency', fontsize=18)\n",
    "plt.xlabel('Predicted Probability that Outcome = 1', fontsize=18)\n",
    "\n",
    "# Create legend.\n",
    "plt.legend(fontsize=20);"
   ]
  },
  {
   "cell_type": "code",
   "execution_count": 75,
   "metadata": {},
   "outputs": [
    {
     "data": {
      "text/plain": [
       "<function matplotlib.pyplot.show(*args, **kw)>"
      ]
     },
     "execution_count": 75,
     "metadata": {},
     "output_type": "execute_result"
    },
    {
     "data": {
      "image/png": "[encoded data removed]",
      "text/plain": [
       "<Figure size 432x288 with 1 Axes>"
      ]
     },
     "metadata": {
      "needs_background": "light"
     },
     "output_type": "display_data"
    }
   ],
   "source": [
    "from sklearn.metrics import roc_curve, auc\n",
    "\n",
    "fpr,tpr,_= roc_curve(y_test, pred_proba)\n",
    "\n",
    "import matplotlib.pyplot as plt\n",
    "\n",
    "plt.plot(fpr, tpr)\n",
    "plt.show"
   ]
  },
  {
   "cell_type": "markdown",
   "metadata": {},
   "source": [
    "Caveats:\n",
    "- My data is seriously skewed\n",
    "- I thought about randomly dropping values from The Onion so my data set was equal. I couldn't honestly justify that as a good way to fit and evaluate this model. \n",
    "- if i had more time, I would have weighted certain words more significantly than others. "
   ]
  },
  {
   "cell_type": "code",
   "execution_count": null,
   "metadata": {},
   "outputs": [],
   "source": []
  }
 ],
 "metadata": {
  "kernelspec": {
   "display_name": "Python 3",
   "language": "python",
   "name": "python3"
  },
  "language_info": {
   "codemirror_mode": {
    "name": "ipython",
    "version": 3
   },
   "file_extension": ".py",
   "mimetype": "text/x-python",
   "name": "python",
   "nbconvert_exporter": "python",
   "pygments_lexer": "ipython3",
   "version": "3.6.8"
  }
 },
 "nbformat": 4,
 "nbformat_minor": 2
}
